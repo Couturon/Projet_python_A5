{
  "nbformat": 4,
  "nbformat_minor": 0,
  "metadata": {
    "colab": {
      "name": "Python_data_projet_undersampling.ipynb",
      "provenance": []
    },
    "kernelspec": {
      "name": "python3",
      "display_name": "Python 3"
    }
  },
  "cells": [
    {
      "cell_type": "markdown",
      "metadata": {
        "id": "Er-QItELqbU6"
      },
      "source": [
        "#Importation des librairies\r\n"
      ]
    },
    {
      "cell_type": "code",
      "metadata": {
        "id": "nkXR-HAhqZ7-"
      },
      "source": [
        "# numpy and pandas for data manipulation\r\n",
        "import numpy as np\r\n",
        "import pandas as pd \r\n",
        "\r\n",
        "# matplotlib and seaborn for plotting\r\n",
        "import matplotlib.pyplot as plt\r\n",
        "import seaborn as sns\r\n",
        "\r\n",
        "#Afin de scale les données\r\n",
        "from sklearn.preprocessing import MinMaxScaler\r\n",
        "\r\n",
        "#Afin de séparer le dataset en train/test\r\n",
        "from sklearn.model_selection import train_test_split \r\n",
        "\r\n",
        "#Pour le grid search\r\n",
        "from sklearn.model_selection   import GridSearchCV"
      ],
      "execution_count": 24,
      "outputs": []
    },
    {
      "cell_type": "markdown",
      "metadata": {
        "id": "zLOB3B0fqHFH"
      },
      "source": [
        "#Importation des données\r\n"
      ]
    },
    {
      "cell_type": "code",
      "metadata": {
        "colab": {
          "base_uri": "https://localhost:8080/",
          "height": 0
        },
        "id": "13HhVPEcprLu",
        "outputId": "e912dd04-fe59-4dc9-d892-7ce2b552fee0"
      },
      "source": [
        "dataset = pd.read_csv('online_shoppers_intention.csv', sep=',')\r\n",
        "dataset"
      ],
      "execution_count": 25,
      "outputs": [
        {
          "output_type": "execute_result",
          "data": {
            "text/html": [
              "<div>\n",
              "<style scoped>\n",
              "    .dataframe tbody tr th:only-of-type {\n",
              "        vertical-align: middle;\n",
              "    }\n",
              "\n",
              "    .dataframe tbody tr th {\n",
              "        vertical-align: top;\n",
              "    }\n",
              "\n",
              "    .dataframe thead th {\n",
              "        text-align: right;\n",
              "    }\n",
              "</style>\n",
              "<table border=\"1\" class=\"dataframe\">\n",
              "  <thead>\n",
              "    <tr style=\"text-align: right;\">\n",
              "      <th></th>\n",
              "      <th>Administrative</th>\n",
              "      <th>Administrative_Duration</th>\n",
              "      <th>Informational</th>\n",
              "      <th>Informational_Duration</th>\n",
              "      <th>ProductRelated</th>\n",
              "      <th>ProductRelated_Duration</th>\n",
              "      <th>BounceRates</th>\n",
              "      <th>ExitRates</th>\n",
              "      <th>PageValues</th>\n",
              "      <th>SpecialDay</th>\n",
              "      <th>Month</th>\n",
              "      <th>OperatingSystems</th>\n",
              "      <th>Browser</th>\n",
              "      <th>Region</th>\n",
              "      <th>TrafficType</th>\n",
              "      <th>VisitorType</th>\n",
              "      <th>Weekend</th>\n",
              "      <th>Revenue</th>\n",
              "    </tr>\n",
              "  </thead>\n",
              "  <tbody>\n",
              "    <tr>\n",
              "      <th>0</th>\n",
              "      <td>0</td>\n",
              "      <td>0.0</td>\n",
              "      <td>0</td>\n",
              "      <td>0.0</td>\n",
              "      <td>1</td>\n",
              "      <td>0.000000</td>\n",
              "      <td>0.200000</td>\n",
              "      <td>0.200000</td>\n",
              "      <td>0.000000</td>\n",
              "      <td>0.0</td>\n",
              "      <td>Feb</td>\n",
              "      <td>1</td>\n",
              "      <td>1</td>\n",
              "      <td>1</td>\n",
              "      <td>1</td>\n",
              "      <td>Returning_Visitor</td>\n",
              "      <td>False</td>\n",
              "      <td>False</td>\n",
              "    </tr>\n",
              "    <tr>\n",
              "      <th>1</th>\n",
              "      <td>0</td>\n",
              "      <td>0.0</td>\n",
              "      <td>0</td>\n",
              "      <td>0.0</td>\n",
              "      <td>2</td>\n",
              "      <td>64.000000</td>\n",
              "      <td>0.000000</td>\n",
              "      <td>0.100000</td>\n",
              "      <td>0.000000</td>\n",
              "      <td>0.0</td>\n",
              "      <td>Feb</td>\n",
              "      <td>2</td>\n",
              "      <td>2</td>\n",
              "      <td>1</td>\n",
              "      <td>2</td>\n",
              "      <td>Returning_Visitor</td>\n",
              "      <td>False</td>\n",
              "      <td>False</td>\n",
              "    </tr>\n",
              "    <tr>\n",
              "      <th>2</th>\n",
              "      <td>0</td>\n",
              "      <td>0.0</td>\n",
              "      <td>0</td>\n",
              "      <td>0.0</td>\n",
              "      <td>1</td>\n",
              "      <td>0.000000</td>\n",
              "      <td>0.200000</td>\n",
              "      <td>0.200000</td>\n",
              "      <td>0.000000</td>\n",
              "      <td>0.0</td>\n",
              "      <td>Feb</td>\n",
              "      <td>4</td>\n",
              "      <td>1</td>\n",
              "      <td>9</td>\n",
              "      <td>3</td>\n",
              "      <td>Returning_Visitor</td>\n",
              "      <td>False</td>\n",
              "      <td>False</td>\n",
              "    </tr>\n",
              "    <tr>\n",
              "      <th>3</th>\n",
              "      <td>0</td>\n",
              "      <td>0.0</td>\n",
              "      <td>0</td>\n",
              "      <td>0.0</td>\n",
              "      <td>2</td>\n",
              "      <td>2.666667</td>\n",
              "      <td>0.050000</td>\n",
              "      <td>0.140000</td>\n",
              "      <td>0.000000</td>\n",
              "      <td>0.0</td>\n",
              "      <td>Feb</td>\n",
              "      <td>3</td>\n",
              "      <td>2</td>\n",
              "      <td>2</td>\n",
              "      <td>4</td>\n",
              "      <td>Returning_Visitor</td>\n",
              "      <td>False</td>\n",
              "      <td>False</td>\n",
              "    </tr>\n",
              "    <tr>\n",
              "      <th>4</th>\n",
              "      <td>0</td>\n",
              "      <td>0.0</td>\n",
              "      <td>0</td>\n",
              "      <td>0.0</td>\n",
              "      <td>10</td>\n",
              "      <td>627.500000</td>\n",
              "      <td>0.020000</td>\n",
              "      <td>0.050000</td>\n",
              "      <td>0.000000</td>\n",
              "      <td>0.0</td>\n",
              "      <td>Feb</td>\n",
              "      <td>3</td>\n",
              "      <td>3</td>\n",
              "      <td>1</td>\n",
              "      <td>4</td>\n",
              "      <td>Returning_Visitor</td>\n",
              "      <td>True</td>\n",
              "      <td>False</td>\n",
              "    </tr>\n",
              "    <tr>\n",
              "      <th>...</th>\n",
              "      <td>...</td>\n",
              "      <td>...</td>\n",
              "      <td>...</td>\n",
              "      <td>...</td>\n",
              "      <td>...</td>\n",
              "      <td>...</td>\n",
              "      <td>...</td>\n",
              "      <td>...</td>\n",
              "      <td>...</td>\n",
              "      <td>...</td>\n",
              "      <td>...</td>\n",
              "      <td>...</td>\n",
              "      <td>...</td>\n",
              "      <td>...</td>\n",
              "      <td>...</td>\n",
              "      <td>...</td>\n",
              "      <td>...</td>\n",
              "      <td>...</td>\n",
              "    </tr>\n",
              "    <tr>\n",
              "      <th>12325</th>\n",
              "      <td>3</td>\n",
              "      <td>145.0</td>\n",
              "      <td>0</td>\n",
              "      <td>0.0</td>\n",
              "      <td>53</td>\n",
              "      <td>1783.791667</td>\n",
              "      <td>0.007143</td>\n",
              "      <td>0.029031</td>\n",
              "      <td>12.241717</td>\n",
              "      <td>0.0</td>\n",
              "      <td>Dec</td>\n",
              "      <td>4</td>\n",
              "      <td>6</td>\n",
              "      <td>1</td>\n",
              "      <td>1</td>\n",
              "      <td>Returning_Visitor</td>\n",
              "      <td>True</td>\n",
              "      <td>False</td>\n",
              "    </tr>\n",
              "    <tr>\n",
              "      <th>12326</th>\n",
              "      <td>0</td>\n",
              "      <td>0.0</td>\n",
              "      <td>0</td>\n",
              "      <td>0.0</td>\n",
              "      <td>5</td>\n",
              "      <td>465.750000</td>\n",
              "      <td>0.000000</td>\n",
              "      <td>0.021333</td>\n",
              "      <td>0.000000</td>\n",
              "      <td>0.0</td>\n",
              "      <td>Nov</td>\n",
              "      <td>3</td>\n",
              "      <td>2</td>\n",
              "      <td>1</td>\n",
              "      <td>8</td>\n",
              "      <td>Returning_Visitor</td>\n",
              "      <td>True</td>\n",
              "      <td>False</td>\n",
              "    </tr>\n",
              "    <tr>\n",
              "      <th>12327</th>\n",
              "      <td>0</td>\n",
              "      <td>0.0</td>\n",
              "      <td>0</td>\n",
              "      <td>0.0</td>\n",
              "      <td>6</td>\n",
              "      <td>184.250000</td>\n",
              "      <td>0.083333</td>\n",
              "      <td>0.086667</td>\n",
              "      <td>0.000000</td>\n",
              "      <td>0.0</td>\n",
              "      <td>Nov</td>\n",
              "      <td>3</td>\n",
              "      <td>2</td>\n",
              "      <td>1</td>\n",
              "      <td>13</td>\n",
              "      <td>Returning_Visitor</td>\n",
              "      <td>True</td>\n",
              "      <td>False</td>\n",
              "    </tr>\n",
              "    <tr>\n",
              "      <th>12328</th>\n",
              "      <td>4</td>\n",
              "      <td>75.0</td>\n",
              "      <td>0</td>\n",
              "      <td>0.0</td>\n",
              "      <td>15</td>\n",
              "      <td>346.000000</td>\n",
              "      <td>0.000000</td>\n",
              "      <td>0.021053</td>\n",
              "      <td>0.000000</td>\n",
              "      <td>0.0</td>\n",
              "      <td>Nov</td>\n",
              "      <td>2</td>\n",
              "      <td>2</td>\n",
              "      <td>3</td>\n",
              "      <td>11</td>\n",
              "      <td>Returning_Visitor</td>\n",
              "      <td>False</td>\n",
              "      <td>False</td>\n",
              "    </tr>\n",
              "    <tr>\n",
              "      <th>12329</th>\n",
              "      <td>0</td>\n",
              "      <td>0.0</td>\n",
              "      <td>0</td>\n",
              "      <td>0.0</td>\n",
              "      <td>3</td>\n",
              "      <td>21.250000</td>\n",
              "      <td>0.000000</td>\n",
              "      <td>0.066667</td>\n",
              "      <td>0.000000</td>\n",
              "      <td>0.0</td>\n",
              "      <td>Nov</td>\n",
              "      <td>3</td>\n",
              "      <td>2</td>\n",
              "      <td>1</td>\n",
              "      <td>2</td>\n",
              "      <td>New_Visitor</td>\n",
              "      <td>True</td>\n",
              "      <td>False</td>\n",
              "    </tr>\n",
              "  </tbody>\n",
              "</table>\n",
              "<p>12330 rows × 18 columns</p>\n",
              "</div>"
            ],
            "text/plain": [
              "       Administrative  Administrative_Duration  ...  Weekend  Revenue\n",
              "0                   0                      0.0  ...    False    False\n",
              "1                   0                      0.0  ...    False    False\n",
              "2                   0                      0.0  ...    False    False\n",
              "3                   0                      0.0  ...    False    False\n",
              "4                   0                      0.0  ...     True    False\n",
              "...               ...                      ...  ...      ...      ...\n",
              "12325               3                    145.0  ...     True    False\n",
              "12326               0                      0.0  ...     True    False\n",
              "12327               0                      0.0  ...     True    False\n",
              "12328               4                     75.0  ...    False    False\n",
              "12329               0                      0.0  ...     True    False\n",
              "\n",
              "[12330 rows x 18 columns]"
            ]
          },
          "metadata": {
            "tags": []
          },
          "execution_count": 25
        }
      ]
    },
    {
      "cell_type": "code",
      "metadata": {
        "colab": {
          "base_uri": "https://localhost:8080/"
        },
        "id": "eHFswvHOqy0C",
        "outputId": "8b478378-2ed9-4bde-e76f-423307224267"
      },
      "source": [
        "dataset.shape"
      ],
      "execution_count": 26,
      "outputs": [
        {
          "output_type": "execute_result",
          "data": {
            "text/plain": [
              "(12330, 18)"
            ]
          },
          "metadata": {
            "tags": []
          },
          "execution_count": 26
        }
      ]
    },
    {
      "cell_type": "code",
      "metadata": {
        "colab": {
          "base_uri": "https://localhost:8080/",
          "height": 0
        },
        "id": "ArzD2Ns7LX1g",
        "outputId": "c46685ae-5eb9-4426-c536-e572f8df5342"
      },
      "source": [
        "#On prend 75% des données dans le train et le reste dans le test mais on shuffle d'abord\n",
        "from sklearn.utils import shuffle\n",
        "\n",
        "dataset = shuffle(dataset)\n",
        "\n",
        "app_train = dataset[0:9247]\n",
        "app_test = dataset[9248:12330]\n",
        "\n",
        "print('Training data shape: ', app_train.shape)\n",
        "app_train.head()"
      ],
      "execution_count": 27,
      "outputs": [
        {
          "output_type": "stream",
          "text": [
            "Training data shape:  (9247, 18)\n"
          ],
          "name": "stdout"
        },
        {
          "output_type": "execute_result",
          "data": {
            "text/html": [
              "<div>\n",
              "<style scoped>\n",
              "    .dataframe tbody tr th:only-of-type {\n",
              "        vertical-align: middle;\n",
              "    }\n",
              "\n",
              "    .dataframe tbody tr th {\n",
              "        vertical-align: top;\n",
              "    }\n",
              "\n",
              "    .dataframe thead th {\n",
              "        text-align: right;\n",
              "    }\n",
              "</style>\n",
              "<table border=\"1\" class=\"dataframe\">\n",
              "  <thead>\n",
              "    <tr style=\"text-align: right;\">\n",
              "      <th></th>\n",
              "      <th>Administrative</th>\n",
              "      <th>Administrative_Duration</th>\n",
              "      <th>Informational</th>\n",
              "      <th>Informational_Duration</th>\n",
              "      <th>ProductRelated</th>\n",
              "      <th>ProductRelated_Duration</th>\n",
              "      <th>BounceRates</th>\n",
              "      <th>ExitRates</th>\n",
              "      <th>PageValues</th>\n",
              "      <th>SpecialDay</th>\n",
              "      <th>Month</th>\n",
              "      <th>OperatingSystems</th>\n",
              "      <th>Browser</th>\n",
              "      <th>Region</th>\n",
              "      <th>TrafficType</th>\n",
              "      <th>VisitorType</th>\n",
              "      <th>Weekend</th>\n",
              "      <th>Revenue</th>\n",
              "    </tr>\n",
              "  </thead>\n",
              "  <tbody>\n",
              "    <tr>\n",
              "      <th>11631</th>\n",
              "      <td>2</td>\n",
              "      <td>18.60</td>\n",
              "      <td>0</td>\n",
              "      <td>0.0</td>\n",
              "      <td>85</td>\n",
              "      <td>2834.280117</td>\n",
              "      <td>0.004884</td>\n",
              "      <td>0.013389</td>\n",
              "      <td>37.423376</td>\n",
              "      <td>0.0</td>\n",
              "      <td>Nov</td>\n",
              "      <td>2</td>\n",
              "      <td>2</td>\n",
              "      <td>1</td>\n",
              "      <td>1</td>\n",
              "      <td>Returning_Visitor</td>\n",
              "      <td>True</td>\n",
              "      <td>False</td>\n",
              "    </tr>\n",
              "    <tr>\n",
              "      <th>6520</th>\n",
              "      <td>5</td>\n",
              "      <td>49.20</td>\n",
              "      <td>4</td>\n",
              "      <td>379.0</td>\n",
              "      <td>5</td>\n",
              "      <td>74.600000</td>\n",
              "      <td>0.000000</td>\n",
              "      <td>0.018182</td>\n",
              "      <td>8.326728</td>\n",
              "      <td>0.0</td>\n",
              "      <td>Sep</td>\n",
              "      <td>2</td>\n",
              "      <td>2</td>\n",
              "      <td>8</td>\n",
              "      <td>2</td>\n",
              "      <td>New_Visitor</td>\n",
              "      <td>False</td>\n",
              "      <td>False</td>\n",
              "    </tr>\n",
              "    <tr>\n",
              "      <th>2111</th>\n",
              "      <td>4</td>\n",
              "      <td>515.60</td>\n",
              "      <td>0</td>\n",
              "      <td>0.0</td>\n",
              "      <td>77</td>\n",
              "      <td>1449.683333</td>\n",
              "      <td>0.000000</td>\n",
              "      <td>0.002632</td>\n",
              "      <td>0.000000</td>\n",
              "      <td>0.0</td>\n",
              "      <td>May</td>\n",
              "      <td>2</td>\n",
              "      <td>2</td>\n",
              "      <td>4</td>\n",
              "      <td>2</td>\n",
              "      <td>Returning_Visitor</td>\n",
              "      <td>False</td>\n",
              "      <td>False</td>\n",
              "    </tr>\n",
              "    <tr>\n",
              "      <th>9273</th>\n",
              "      <td>5</td>\n",
              "      <td>140.25</td>\n",
              "      <td>4</td>\n",
              "      <td>282.0</td>\n",
              "      <td>4</td>\n",
              "      <td>213.500000</td>\n",
              "      <td>0.000000</td>\n",
              "      <td>0.009091</td>\n",
              "      <td>0.000000</td>\n",
              "      <td>0.0</td>\n",
              "      <td>Nov</td>\n",
              "      <td>3</td>\n",
              "      <td>2</td>\n",
              "      <td>1</td>\n",
              "      <td>2</td>\n",
              "      <td>New_Visitor</td>\n",
              "      <td>False</td>\n",
              "      <td>True</td>\n",
              "    </tr>\n",
              "    <tr>\n",
              "      <th>8187</th>\n",
              "      <td>0</td>\n",
              "      <td>0.00</td>\n",
              "      <td>0</td>\n",
              "      <td>0.0</td>\n",
              "      <td>4</td>\n",
              "      <td>129.500000</td>\n",
              "      <td>0.000000</td>\n",
              "      <td>0.050000</td>\n",
              "      <td>0.000000</td>\n",
              "      <td>0.0</td>\n",
              "      <td>Dec</td>\n",
              "      <td>8</td>\n",
              "      <td>13</td>\n",
              "      <td>9</td>\n",
              "      <td>20</td>\n",
              "      <td>Other</td>\n",
              "      <td>False</td>\n",
              "      <td>False</td>\n",
              "    </tr>\n",
              "  </tbody>\n",
              "</table>\n",
              "</div>"
            ],
            "text/plain": [
              "       Administrative  Administrative_Duration  ...  Weekend  Revenue\n",
              "11631               2                    18.60  ...     True    False\n",
              "6520                5                    49.20  ...    False    False\n",
              "2111                4                   515.60  ...    False    False\n",
              "9273                5                   140.25  ...    False     True\n",
              "8187                0                     0.00  ...    False    False\n",
              "\n",
              "[5 rows x 18 columns]"
            ]
          },
          "metadata": {
            "tags": []
          },
          "execution_count": 27
        }
      ]
    },
    {
      "cell_type": "markdown",
      "metadata": {
        "id": "K9a7-GwpsGv4"
      },
      "source": [
        "#Analyse des données "
      ]
    },
    {
      "cell_type": "code",
      "metadata": {
        "colab": {
          "base_uri": "https://localhost:8080/"
        },
        "id": "hXafx2c2sI6n",
        "outputId": "72dcd7be-51cb-49b8-8c14-0503246f3d4b"
      },
      "source": [
        "dataset['Revenue'].value_counts()"
      ],
      "execution_count": 28,
      "outputs": [
        {
          "output_type": "execute_result",
          "data": {
            "text/plain": [
              "False    10422\n",
              "True      1908\n",
              "Name: Revenue, dtype: int64"
            ]
          },
          "metadata": {
            "tags": []
          },
          "execution_count": 28
        }
      ]
    },
    {
      "cell_type": "code",
      "metadata": {
        "colab": {
          "base_uri": "https://localhost:8080/",
          "height": 0
        },
        "id": "xv8vNjNEsbVz",
        "outputId": "75b6218a-27b2-4369-9a60-6cb8c68b8405"
      },
      "source": [
        "dataset['Revenue'].astype(int).plot.hist();"
      ],
      "execution_count": 29,
      "outputs": [
        {
          "output_type": "display_data",
          "data": {
            "image/png": "[encoded data removed]",
            "text/plain": [
              "<Figure size 432x288 with 1 Axes>"
            ]
          },
          "metadata": {
            "tags": [],
            "needs_background": "light"
          }
        }
      ]
    },
    {
      "cell_type": "markdown",
      "metadata": {
        "id": "mp2K7dLIsiuD"
      },
      "source": [
        "On peut voir qu'il y a beaucoup plus de visites ou le visiteur n'achète rien que de visites ou il achète "
      ]
    },
    {
      "cell_type": "markdown",
      "metadata": {
        "id": "rMAJbxbyYOB_"
      },
      "source": [
        "##Missing values"
      ]
    },
    {
      "cell_type": "code",
      "metadata": {
        "id": "NPxY3g7GNKBa"
      },
      "source": [
        "# Function to calculate missing values by column# Funct \n",
        "def missing_values_table(df):\n",
        "        # Total missing values\n",
        "        mis_val = df.isnull().sum()\n",
        "        \n",
        "        # Percentage of missing values\n",
        "        mis_val_percent = 100 * df.isnull().sum() / len(df)\n",
        "        \n",
        "        # Make a table with the results\n",
        "        mis_val_table = pd.concat([mis_val, mis_val_percent], axis=1)\n",
        "        \n",
        "        # Rename the columns\n",
        "        mis_val_table_ren_columns = mis_val_table.rename(\n",
        "        columns = {0 : 'Missing Values', 1 : '% of Total Values'})\n",
        "        \n",
        "        # Sort the table by percentage of missing descending\n",
        "        mis_val_table_ren_columns = mis_val_table_ren_columns[\n",
        "            mis_val_table_ren_columns.iloc[:,1] != 0].sort_values(\n",
        "        '% of Total Values', ascending=False).round(1)\n",
        "\n",
        "        # Print some summary information\n",
        "        print (\"Your selected dataframe has \" + str(df.shape[1]) + \" columns.\\n\"      \n",
        "            \"There are \" + str(mis_val_table_ren_columns.shape[0]) +\n",
        "              \" columns that have missing values.\")\n",
        "        \n",
        "        # Return the dataframe with missing information\n",
        "        return mis_val_table_ren_columns"
      ],
      "execution_count": 30,
      "outputs": []
    },
    {
      "cell_type": "code",
      "metadata": {
        "colab": {
          "base_uri": "https://localhost:8080/",
          "height": 0
        },
        "id": "PNajedHXNKsn",
        "outputId": "ce868a22-121f-46a9-a00a-9046075b23c0"
      },
      "source": [
        "missing_values = missing_values_table(dataset)\n",
        "missing_values.head(20)"
      ],
      "execution_count": 31,
      "outputs": [
        {
          "output_type": "stream",
          "text": [
            "Your selected dataframe has 18 columns.\n",
            "There are 0 columns that have missing values.\n"
          ],
          "name": "stdout"
        },
        {
          "output_type": "execute_result",
          "data": {
            "text/html": [
              "<div>\n",
              "<style scoped>\n",
              "    .dataframe tbody tr th:only-of-type {\n",
              "        vertical-align: middle;\n",
              "    }\n",
              "\n",
              "    .dataframe tbody tr th {\n",
              "        vertical-align: top;\n",
              "    }\n",
              "\n",
              "    .dataframe thead th {\n",
              "        text-align: right;\n",
              "    }\n",
              "</style>\n",
              "<table border=\"1\" class=\"dataframe\">\n",
              "  <thead>\n",
              "    <tr style=\"text-align: right;\">\n",
              "      <th></th>\n",
              "      <th>Missing Values</th>\n",
              "      <th>% of Total Values</th>\n",
              "    </tr>\n",
              "  </thead>\n",
              "  <tbody>\n",
              "  </tbody>\n",
              "</table>\n",
              "</div>"
            ],
            "text/plain": [
              "Empty DataFrame\n",
              "Columns: [Missing Values, % of Total Values]\n",
              "Index: []"
            ]
          },
          "metadata": {
            "tags": []
          },
          "execution_count": 31
        }
      ]
    },
    {
      "cell_type": "markdown",
      "metadata": {
        "id": "Cjx3iSeBs4-L"
      },
      "source": [
        "Il n'y a aucune valeure manquante dans mon dataset "
      ]
    },
    {
      "cell_type": "markdown",
      "metadata": {
        "id": "Ws-DYO9IYUCH"
      },
      "source": [
        "##Etudes du type des variables"
      ]
    },
    {
      "cell_type": "code",
      "metadata": {
        "colab": {
          "base_uri": "https://localhost:8080/"
        },
        "id": "IDN7LU2MNM_3",
        "outputId": "427c89fb-ed78-4772-eb44-4f670cced721"
      },
      "source": [
        "# le nombre de colonnes pour chaque type de variables\n",
        "dataset.dtypes.value_counts()"
      ],
      "execution_count": 32,
      "outputs": [
        {
          "output_type": "execute_result",
          "data": {
            "text/plain": [
              "float64    7\n",
              "int64      7\n",
              "object     2\n",
              "bool       2\n",
              "dtype: int64"
            ]
          },
          "metadata": {
            "tags": []
          },
          "execution_count": 32
        }
      ]
    },
    {
      "cell_type": "code",
      "metadata": {
        "colab": {
          "base_uri": "https://localhost:8080/"
        },
        "id": "rqP5csR3NPZj",
        "outputId": "c05c5a3c-8ffa-4d77-ab22-08fa183682e4"
      },
      "source": [
        "# Number of unique classes in each object column\n",
        "dataset.select_dtypes('object').apply(pd.Series.nunique, axis = 0)"
      ],
      "execution_count": 33,
      "outputs": [
        {
          "output_type": "execute_result",
          "data": {
            "text/plain": [
              "Month          10\n",
              "VisitorType     3\n",
              "dtype: int64"
            ]
          },
          "metadata": {
            "tags": []
          },
          "execution_count": 33
        }
      ]
    },
    {
      "cell_type": "code",
      "metadata": {
        "colab": {
          "base_uri": "https://localhost:8080/"
        },
        "id": "UUioYWm5tTMj",
        "outputId": "6aa8b067-8d72-4b70-a955-716cb6832d9b"
      },
      "source": [
        "# Number of unique classes in each boolean column\r\n",
        "dataset.select_dtypes('bool').apply(pd.Series.nunique, axis = 0)"
      ],
      "execution_count": 34,
      "outputs": [
        {
          "output_type": "execute_result",
          "data": {
            "text/plain": [
              "Weekend    2\n",
              "Revenue    2\n",
              "dtype: int64"
            ]
          },
          "metadata": {
            "tags": []
          },
          "execution_count": 34
        }
      ]
    },
    {
      "cell_type": "markdown",
      "metadata": {
        "id": "2iY5bHJH23vS"
      },
      "source": [
        "On peut voir que mon dataset est composé de 14 variables numériques, de 2 variables boolean et de 2 variables de type texte."
      ]
    },
    {
      "cell_type": "markdown",
      "metadata": {
        "id": "y3DWpliCwIKw"
      },
      "source": [
        "##Etude des variables "
      ]
    },
    {
      "cell_type": "markdown",
      "metadata": {
        "id": "GRCBDJTp3Ttv"
      },
      "source": [
        "###Variable ProductRelated_Duration"
      ]
    },
    {
      "cell_type": "code",
      "metadata": {
        "colab": {
          "base_uri": "https://localhost:8080/"
        },
        "id": "aKWujgQwwLXO",
        "outputId": "9e5a946f-41e6-4b1d-a313-91ba11b7fb6f"
      },
      "source": [
        "dataset['ProductRelated_Duration'].describe()"
      ],
      "execution_count": 35,
      "outputs": [
        {
          "output_type": "execute_result",
          "data": {
            "text/plain": [
              "count    12330.000000\n",
              "mean      1194.746220\n",
              "std       1913.669288\n",
              "min          0.000000\n",
              "25%        184.137500\n",
              "50%        598.936905\n",
              "75%       1464.157213\n",
              "max      63973.522230\n",
              "Name: ProductRelated_Duration, dtype: float64"
            ]
          },
          "metadata": {
            "tags": []
          },
          "execution_count": 35
        }
      ]
    },
    {
      "cell_type": "code",
      "metadata": {
        "colab": {
          "base_uri": "https://localhost:8080/",
          "height": 0
        },
        "id": "PrJV4jkpwqGJ",
        "outputId": "c38b6d38-69e1-48c8-afba-223787057b3e"
      },
      "source": [
        "dataset['ProductRelated_Duration'].plot.hist(title = 'ProductRelated_Duration Histogram');\r\n",
        "plt.xlabel('ProductRelated_Duration');"
      ],
      "execution_count": 36,
      "outputs": [
        {
          "output_type": "display_data",
          "data": {
            "image/png": "[encoded data removed]",
            "text/plain": [
              "<Figure size 432x288 with 1 Axes>"
            ]
          },
          "metadata": {
            "tags": [],
            "needs_background": "light"
          }
        }
      ]
    },
    {
      "cell_type": "markdown",
      "metadata": {
        "id": "pxTJV7K-3uXN"
      },
      "source": [
        "On peut voir que en moyenne, un visiteur va rester 1195 secondes sur la page d'un produit. "
      ]
    },
    {
      "cell_type": "markdown",
      "metadata": {
        "id": "3C85Omzx35Ct"
      },
      "source": [
        "###Variable Month"
      ]
    },
    {
      "cell_type": "code",
      "metadata": {
        "colab": {
          "base_uri": "https://localhost:8080/"
        },
        "id": "z_S07H4L_Zc3",
        "outputId": "1f3375fc-6545-4727-94ba-4059e06a7f69"
      },
      "source": [
        "dataset['Month'].describe()"
      ],
      "execution_count": 37,
      "outputs": [
        {
          "output_type": "execute_result",
          "data": {
            "text/plain": [
              "count     12330\n",
              "unique       10\n",
              "top         May\n",
              "freq       3364\n",
              "Name: Month, dtype: object"
            ]
          },
          "metadata": {
            "tags": []
          },
          "execution_count": 37
        }
      ]
    },
    {
      "cell_type": "markdown",
      "metadata": {
        "id": "ljKeofAL_m4U"
      },
      "source": [
        "Il n'y a que 10 valeurs différentes, ainsi on peut en déduire que tous les mois ne sont pas répertorié"
      ]
    },
    {
      "cell_type": "code",
      "metadata": {
        "colab": {
          "base_uri": "https://localhost:8080/"
        },
        "id": "-JrhYaWCxmo7",
        "outputId": "14db940f-1f1a-4cdb-b6a5-c6b4006f3b1e"
      },
      "source": [
        "dataset[(dataset.Revenue==True)].groupby('Month').count()['Revenue'].sort_values()"
      ],
      "execution_count": 38,
      "outputs": [
        {
          "output_type": "execute_result",
          "data": {
            "text/plain": [
              "Month\n",
              "Feb       3\n",
              "June     29\n",
              "Jul      66\n",
              "Aug      76\n",
              "Sep      86\n",
              "Oct     115\n",
              "Mar     192\n",
              "Dec     216\n",
              "May     365\n",
              "Nov     760\n",
              "Name: Revenue, dtype: int64"
            ]
          },
          "metadata": {
            "tags": []
          },
          "execution_count": 38
        }
      ]
    },
    {
      "cell_type": "markdown",
      "metadata": {
        "id": "YGahK22915Et"
      },
      "source": [
        "On peut voir que les périodes ou il y a le plus d'achats sont :\r\n",
        "- octobre, novembre, décembre ce qui peut s'expliquer avec la préparation de noël\r\n",
        "- février assez faible malgré la saint-valentin\r\n",
        "- période mai, juin, juillet, aout"
      ]
    },
    {
      "cell_type": "markdown",
      "metadata": {
        "id": "wuT4sAZe4BW5"
      },
      "source": [
        "###Variable Special day"
      ]
    },
    {
      "cell_type": "code",
      "metadata": {
        "colab": {
          "base_uri": "https://localhost:8080/"
        },
        "id": "wC3Ppv9-33JP",
        "outputId": "50854918-f32c-4553-c842-1e892117c7d4"
      },
      "source": [
        "dataset[(dataset.Revenue==True)].groupby('SpecialDay').count()['Revenue'].sort_values()"
      ],
      "execution_count": 39,
      "outputs": [
        {
          "output_type": "execute_result",
          "data": {
            "text/plain": [
              "SpecialDay\n",
              "1.0      10\n",
              "0.8      11\n",
              "0.4      13\n",
              "0.2      14\n",
              "0.6      29\n",
              "0.0    1831\n",
              "Name: Revenue, dtype: int64"
            ]
          },
          "metadata": {
            "tags": []
          },
          "execution_count": 39
        }
      ]
    },
    {
      "cell_type": "markdown",
      "metadata": {
        "id": "nS0vDKfF4rLG"
      },
      "source": [
        "On peut voir que le moment proche des fêtes (comme la saint-valentin ou noel) n'est pas du tout un moment ou les gens achètent spécialement.Attention on ne sait pas combien de jours representent les jours special date, il y a peut être une très forte disproportion de jours entre special date et 0. En effet, si la période d'une special date ne correspond qu'à une dizaine de jours cela ne prendrait en compte seulement les gens qui effectuent leurs achats au dernier moment. "
      ]
    },
    {
      "cell_type": "markdown",
      "metadata": {
        "id": "T2GiiZj25HTU"
      },
      "source": [
        "###Variable Region"
      ]
    },
    {
      "cell_type": "code",
      "metadata": {
        "colab": {
          "base_uri": "https://localhost:8080/"
        },
        "id": "RtzmJGlL5LYc",
        "outputId": "a248d6c1-5657-472d-f05d-c27f7bc3104a"
      },
      "source": [
        "dataset[(dataset.Revenue==True)].groupby('Region').count()['Revenue'].sort_values()"
      ],
      "execution_count": 40,
      "outputs": [
        {
          "output_type": "execute_result",
          "data": {
            "text/plain": [
              "Region\n",
              "5     52\n",
              "8     56\n",
              "9     86\n",
              "6    112\n",
              "7    119\n",
              "4    175\n",
              "2    188\n",
              "3    349\n",
              "1    771\n",
              "Name: Revenue, dtype: int64"
            ]
          },
          "metadata": {
            "tags": []
          },
          "execution_count": 40
        }
      ]
    },
    {
      "cell_type": "markdown",
      "metadata": {
        "id": "J5ozQS7x5nQ4"
      },
      "source": [
        "On peut voir qu'il y a beaucoup plus d'achat dans les 4 premières régions que dans les autres. Cela correspond peut être à des régions plus riche, plus grande ou plus peuplé. "
      ]
    },
    {
      "cell_type": "markdown",
      "metadata": {
        "id": "Krh0ElLX6xVs"
      },
      "source": [
        "###Création variable de la durée totale"
      ]
    },
    {
      "cell_type": "code",
      "metadata": {
        "colab": {
          "base_uri": "https://localhost:8080/",
          "height": 0
        },
        "id": "DVUWYh7t63uP",
        "outputId": "fd4b1c49-ba20-4d5b-f032-50ac1a711995"
      },
      "source": [
        "app_train['Total_Duration'] = app_train['Administrative_Duration'] + app_train['Informational_Duration'] + app_train['ProductRelated_Duration']\r\n",
        "app_test['Total_Duration'] = app_test['Administrative_Duration'] + app_test['Informational_Duration'] + app_test['ProductRelated_Duration']\r\n",
        "app_train"
      ],
      "execution_count": 41,
      "outputs": [
        {
          "output_type": "stream",
          "text": [
            "/usr/local/lib/python3.6/dist-packages/ipykernel_launcher.py:1: SettingWithCopyWarning: \n",
            "A value is trying to be set on a copy of a slice from a DataFrame.\n",
            "Try using .loc[row_indexer,col_indexer] = value instead\n",
            "\n",
            "See the caveats in the documentation: https://pandas.pydata.org/pandas-docs/stable/user_guide/indexing.html#returning-a-view-versus-a-copy\n",
            "  \"\"\"Entry point for launching an IPython kernel.\n",
            "/usr/local/lib/python3.6/dist-packages/ipykernel_launcher.py:2: SettingWithCopyWarning: \n",
            "A value is trying to be set on a copy of a slice from a DataFrame.\n",
            "Try using .loc[row_indexer,col_indexer] = value instead\n",
            "\n",
            "See the caveats in the documentation: https://pandas.pydata.org/pandas-docs/stable/user_guide/indexing.html#returning-a-view-versus-a-copy\n",
            "  \n"
          ],
          "name": "stderr"
        },
        {
          "output_type": "execute_result",
          "data": {
            "text/html": [
              "<div>\n",
              "<style scoped>\n",
              "    .dataframe tbody tr th:only-of-type {\n",
              "        vertical-align: middle;\n",
              "    }\n",
              "\n",
              "    .dataframe tbody tr th {\n",
              "        vertical-align: top;\n",
              "    }\n",
              "\n",
              "    .dataframe thead th {\n",
              "        text-align: right;\n",
              "    }\n",
              "</style>\n",
              "<table border=\"1\" class=\"dataframe\">\n",
              "  <thead>\n",
              "    <tr style=\"text-align: right;\">\n",
              "      <th></th>\n",
              "      <th>Administrative</th>\n",
              "      <th>Administrative_Duration</th>\n",
              "      <th>Informational</th>\n",
              "      <th>Informational_Duration</th>\n",
              "      <th>ProductRelated</th>\n",
              "      <th>ProductRelated_Duration</th>\n",
              "      <th>BounceRates</th>\n",
              "      <th>ExitRates</th>\n",
              "      <th>PageValues</th>\n",
              "      <th>SpecialDay</th>\n",
              "      <th>Month</th>\n",
              "      <th>OperatingSystems</th>\n",
              "      <th>Browser</th>\n",
              "      <th>Region</th>\n",
              "      <th>TrafficType</th>\n",
              "      <th>VisitorType</th>\n",
              "      <th>Weekend</th>\n",
              "      <th>Revenue</th>\n",
              "      <th>Total_Duration</th>\n",
              "    </tr>\n",
              "  </thead>\n",
              "  <tbody>\n",
              "    <tr>\n",
              "      <th>11631</th>\n",
              "      <td>2</td>\n",
              "      <td>18.600000</td>\n",
              "      <td>0</td>\n",
              "      <td>0.000000</td>\n",
              "      <td>85</td>\n",
              "      <td>2834.280117</td>\n",
              "      <td>0.004884</td>\n",
              "      <td>0.013389</td>\n",
              "      <td>37.423376</td>\n",
              "      <td>0.0</td>\n",
              "      <td>Nov</td>\n",
              "      <td>2</td>\n",
              "      <td>2</td>\n",
              "      <td>1</td>\n",
              "      <td>1</td>\n",
              "      <td>Returning_Visitor</td>\n",
              "      <td>True</td>\n",
              "      <td>False</td>\n",
              "      <td>2852.880117</td>\n",
              "    </tr>\n",
              "    <tr>\n",
              "      <th>6520</th>\n",
              "      <td>5</td>\n",
              "      <td>49.200000</td>\n",
              "      <td>4</td>\n",
              "      <td>379.000000</td>\n",
              "      <td>5</td>\n",
              "      <td>74.600000</td>\n",
              "      <td>0.000000</td>\n",
              "      <td>0.018182</td>\n",
              "      <td>8.326728</td>\n",
              "      <td>0.0</td>\n",
              "      <td>Sep</td>\n",
              "      <td>2</td>\n",
              "      <td>2</td>\n",
              "      <td>8</td>\n",
              "      <td>2</td>\n",
              "      <td>New_Visitor</td>\n",
              "      <td>False</td>\n",
              "      <td>False</td>\n",
              "      <td>502.800000</td>\n",
              "    </tr>\n",
              "    <tr>\n",
              "      <th>2111</th>\n",
              "      <td>4</td>\n",
              "      <td>515.600000</td>\n",
              "      <td>0</td>\n",
              "      <td>0.000000</td>\n",
              "      <td>77</td>\n",
              "      <td>1449.683333</td>\n",
              "      <td>0.000000</td>\n",
              "      <td>0.002632</td>\n",
              "      <td>0.000000</td>\n",
              "      <td>0.0</td>\n",
              "      <td>May</td>\n",
              "      <td>2</td>\n",
              "      <td>2</td>\n",
              "      <td>4</td>\n",
              "      <td>2</td>\n",
              "      <td>Returning_Visitor</td>\n",
              "      <td>False</td>\n",
              "      <td>False</td>\n",
              "      <td>1965.283333</td>\n",
              "    </tr>\n",
              "    <tr>\n",
              "      <th>9273</th>\n",
              "      <td>5</td>\n",
              "      <td>140.250000</td>\n",
              "      <td>4</td>\n",
              "      <td>282.000000</td>\n",
              "      <td>4</td>\n",
              "      <td>213.500000</td>\n",
              "      <td>0.000000</td>\n",
              "      <td>0.009091</td>\n",
              "      <td>0.000000</td>\n",
              "      <td>0.0</td>\n",
              "      <td>Nov</td>\n",
              "      <td>3</td>\n",
              "      <td>2</td>\n",
              "      <td>1</td>\n",
              "      <td>2</td>\n",
              "      <td>New_Visitor</td>\n",
              "      <td>False</td>\n",
              "      <td>True</td>\n",
              "      <td>635.750000</td>\n",
              "    </tr>\n",
              "    <tr>\n",
              "      <th>8187</th>\n",
              "      <td>0</td>\n",
              "      <td>0.000000</td>\n",
              "      <td>0</td>\n",
              "      <td>0.000000</td>\n",
              "      <td>4</td>\n",
              "      <td>129.500000</td>\n",
              "      <td>0.000000</td>\n",
              "      <td>0.050000</td>\n",
              "      <td>0.000000</td>\n",
              "      <td>0.0</td>\n",
              "      <td>Dec</td>\n",
              "      <td>8</td>\n",
              "      <td>13</td>\n",
              "      <td>9</td>\n",
              "      <td>20</td>\n",
              "      <td>Other</td>\n",
              "      <td>False</td>\n",
              "      <td>False</td>\n",
              "      <td>129.500000</td>\n",
              "    </tr>\n",
              "    <tr>\n",
              "      <th>...</th>\n",
              "      <td>...</td>\n",
              "      <td>...</td>\n",
              "      <td>...</td>\n",
              "      <td>...</td>\n",
              "      <td>...</td>\n",
              "      <td>...</td>\n",
              "      <td>...</td>\n",
              "      <td>...</td>\n",
              "      <td>...</td>\n",
              "      <td>...</td>\n",
              "      <td>...</td>\n",
              "      <td>...</td>\n",
              "      <td>...</td>\n",
              "      <td>...</td>\n",
              "      <td>...</td>\n",
              "      <td>...</td>\n",
              "      <td>...</td>\n",
              "      <td>...</td>\n",
              "      <td>...</td>\n",
              "    </tr>\n",
              "    <tr>\n",
              "      <th>11988</th>\n",
              "      <td>14</td>\n",
              "      <td>228.748539</td>\n",
              "      <td>6</td>\n",
              "      <td>121.583333</td>\n",
              "      <td>336</td>\n",
              "      <td>12166.694240</td>\n",
              "      <td>0.000000</td>\n",
              "      <td>0.012144</td>\n",
              "      <td>0.067050</td>\n",
              "      <td>0.0</td>\n",
              "      <td>Nov</td>\n",
              "      <td>2</td>\n",
              "      <td>2</td>\n",
              "      <td>7</td>\n",
              "      <td>2</td>\n",
              "      <td>Returning_Visitor</td>\n",
              "      <td>False</td>\n",
              "      <td>True</td>\n",
              "      <td>12517.026112</td>\n",
              "    </tr>\n",
              "    <tr>\n",
              "      <th>6613</th>\n",
              "      <td>16</td>\n",
              "      <td>314.505000</td>\n",
              "      <td>0</td>\n",
              "      <td>0.000000</td>\n",
              "      <td>37</td>\n",
              "      <td>1048.663333</td>\n",
              "      <td>0.000000</td>\n",
              "      <td>0.008696</td>\n",
              "      <td>87.253963</td>\n",
              "      <td>0.0</td>\n",
              "      <td>Nov</td>\n",
              "      <td>1</td>\n",
              "      <td>1</td>\n",
              "      <td>3</td>\n",
              "      <td>2</td>\n",
              "      <td>New_Visitor</td>\n",
              "      <td>False</td>\n",
              "      <td>True</td>\n",
              "      <td>1363.168333</td>\n",
              "    </tr>\n",
              "    <tr>\n",
              "      <th>7637</th>\n",
              "      <td>7</td>\n",
              "      <td>154.933333</td>\n",
              "      <td>0</td>\n",
              "      <td>0.000000</td>\n",
              "      <td>31</td>\n",
              "      <td>910.040000</td>\n",
              "      <td>0.018182</td>\n",
              "      <td>0.052020</td>\n",
              "      <td>5.316109</td>\n",
              "      <td>0.0</td>\n",
              "      <td>Jul</td>\n",
              "      <td>1</td>\n",
              "      <td>1</td>\n",
              "      <td>3</td>\n",
              "      <td>1</td>\n",
              "      <td>Returning_Visitor</td>\n",
              "      <td>False</td>\n",
              "      <td>False</td>\n",
              "      <td>1064.973333</td>\n",
              "    </tr>\n",
              "    <tr>\n",
              "      <th>115</th>\n",
              "      <td>0</td>\n",
              "      <td>0.000000</td>\n",
              "      <td>0</td>\n",
              "      <td>0.000000</td>\n",
              "      <td>12</td>\n",
              "      <td>317.833333</td>\n",
              "      <td>0.000000</td>\n",
              "      <td>0.005556</td>\n",
              "      <td>0.000000</td>\n",
              "      <td>0.0</td>\n",
              "      <td>Feb</td>\n",
              "      <td>1</td>\n",
              "      <td>1</td>\n",
              "      <td>1</td>\n",
              "      <td>4</td>\n",
              "      <td>Returning_Visitor</td>\n",
              "      <td>True</td>\n",
              "      <td>False</td>\n",
              "      <td>317.833333</td>\n",
              "    </tr>\n",
              "    <tr>\n",
              "      <th>11278</th>\n",
              "      <td>4</td>\n",
              "      <td>91.000000</td>\n",
              "      <td>2</td>\n",
              "      <td>9.500000</td>\n",
              "      <td>104</td>\n",
              "      <td>2856.993600</td>\n",
              "      <td>0.016929</td>\n",
              "      <td>0.041369</td>\n",
              "      <td>0.000000</td>\n",
              "      <td>0.0</td>\n",
              "      <td>Dec</td>\n",
              "      <td>2</td>\n",
              "      <td>2</td>\n",
              "      <td>2</td>\n",
              "      <td>10</td>\n",
              "      <td>Returning_Visitor</td>\n",
              "      <td>False</td>\n",
              "      <td>False</td>\n",
              "      <td>2957.493600</td>\n",
              "    </tr>\n",
              "  </tbody>\n",
              "</table>\n",
              "<p>9247 rows × 19 columns</p>\n",
              "</div>"
            ],
            "text/plain": [
              "       Administrative  Administrative_Duration  ...  Revenue  Total_Duration\n",
              "11631               2                18.600000  ...    False     2852.880117\n",
              "6520                5                49.200000  ...    False      502.800000\n",
              "2111                4               515.600000  ...    False     1965.283333\n",
              "9273                5               140.250000  ...     True      635.750000\n",
              "8187                0                 0.000000  ...    False      129.500000\n",
              "...               ...                      ...  ...      ...             ...\n",
              "11988              14               228.748539  ...     True    12517.026112\n",
              "6613               16               314.505000  ...     True     1363.168333\n",
              "7637                7               154.933333  ...    False     1064.973333\n",
              "115                 0                 0.000000  ...    False      317.833333\n",
              "11278               4                91.000000  ...    False     2957.493600\n",
              "\n",
              "[9247 rows x 19 columns]"
            ]
          },
          "metadata": {
            "tags": []
          },
          "execution_count": 41
        }
      ]
    },
    {
      "cell_type": "markdown",
      "metadata": {
        "id": "nKIlia-b7QyH"
      },
      "source": [
        "Création d'une variable sur la durée totale passer sur le site de e-commerce. Cela peut donner des informations supplémentaires à nos modèles"
      ]
    },
    {
      "cell_type": "markdown",
      "metadata": {
        "id": "vNfbGbEt71ga"
      },
      "source": [
        "#Traitement des variables"
      ]
    },
    {
      "cell_type": "markdown",
      "metadata": {
        "id": "mS0RVRIO9Zyi"
      },
      "source": [
        "##Transformation variable numérique"
      ]
    },
    {
      "cell_type": "markdown",
      "metadata": {
        "id": "IqSvO5Pn4v3z"
      },
      "source": [
        "Il faut d'abord transformer les variables non numérique en variables numériques afin de pouvoir appliquer des modèles de ML au dataset. "
      ]
    },
    {
      "cell_type": "code",
      "metadata": {
        "id": "LhDjUO_L8YCN",
        "colab": {
          "base_uri": "https://localhost:8080/"
        },
        "outputId": "916e8f66-9188-4d55-bf99-04ffc8e96c79"
      },
      "source": [
        "#Je converti les colonnes boolean en colonne numérique afin d'avoir des 0 et des 1 plutôt que True ou False\r\n",
        "app_train[\"Revenue\"] = app_train[\"Revenue\"].astype(int)\r\n",
        "app_train['Weekend'] = app_train['Weekend'].astype(int)\r\n",
        "\r\n",
        "app_test[\"Revenue\"] = app_test[\"Revenue\"].astype(int)\r\n",
        "app_test['Weekend'] = app_test['Weekend'].astype(int)"
      ],
      "execution_count": 42,
      "outputs": [
        {
          "output_type": "stream",
          "text": [
            "/usr/local/lib/python3.6/dist-packages/ipykernel_launcher.py:2: SettingWithCopyWarning: \n",
            "A value is trying to be set on a copy of a slice from a DataFrame.\n",
            "Try using .loc[row_indexer,col_indexer] = value instead\n",
            "\n",
            "See the caveats in the documentation: https://pandas.pydata.org/pandas-docs/stable/user_guide/indexing.html#returning-a-view-versus-a-copy\n",
            "  \n",
            "/usr/local/lib/python3.6/dist-packages/ipykernel_launcher.py:3: SettingWithCopyWarning: \n",
            "A value is trying to be set on a copy of a slice from a DataFrame.\n",
            "Try using .loc[row_indexer,col_indexer] = value instead\n",
            "\n",
            "See the caveats in the documentation: https://pandas.pydata.org/pandas-docs/stable/user_guide/indexing.html#returning-a-view-versus-a-copy\n",
            "  This is separate from the ipykernel package so we can avoid doing imports until\n",
            "/usr/local/lib/python3.6/dist-packages/ipykernel_launcher.py:5: SettingWithCopyWarning: \n",
            "A value is trying to be set on a copy of a slice from a DataFrame.\n",
            "Try using .loc[row_indexer,col_indexer] = value instead\n",
            "\n",
            "See the caveats in the documentation: https://pandas.pydata.org/pandas-docs/stable/user_guide/indexing.html#returning-a-view-versus-a-copy\n",
            "  \"\"\"\n",
            "/usr/local/lib/python3.6/dist-packages/ipykernel_launcher.py:6: SettingWithCopyWarning: \n",
            "A value is trying to be set on a copy of a slice from a DataFrame.\n",
            "Try using .loc[row_indexer,col_indexer] = value instead\n",
            "\n",
            "See the caveats in the documentation: https://pandas.pydata.org/pandas-docs/stable/user_guide/indexing.html#returning-a-view-versus-a-copy\n",
            "  \n"
          ],
          "name": "stderr"
        }
      ]
    },
    {
      "cell_type": "code",
      "metadata": {
        "id": "w6iGZz6b79jn"
      },
      "source": [
        "# one-hot encoding pour les variables de type object afin de n'avoir que des variables numérique\r\n",
        "app_train = pd.get_dummies(app_train)\r\n",
        "\r\n",
        "app_test = pd.get_dummies(app_test)\r\n"
      ],
      "execution_count": 43,
      "outputs": []
    },
    {
      "cell_type": "code",
      "metadata": {
        "colab": {
          "base_uri": "https://localhost:8080/",
          "height": 0
        },
        "id": "GwJ1BwXw9H9O",
        "outputId": "64eb7e9c-0dc8-4148-8443-b737049114a4"
      },
      "source": [
        "app_train"
      ],
      "execution_count": 44,
      "outputs": [
        {
          "output_type": "execute_result",
          "data": {
            "text/html": [
              "<div>\n",
              "<style scoped>\n",
              "    .dataframe tbody tr th:only-of-type {\n",
              "        vertical-align: middle;\n",
              "    }\n",
              "\n",
              "    .dataframe tbody tr th {\n",
              "        vertical-align: top;\n",
              "    }\n",
              "\n",
              "    .dataframe thead th {\n",
              "        text-align: right;\n",
              "    }\n",
              "</style>\n",
              "<table border=\"1\" class=\"dataframe\">\n",
              "  <thead>\n",
              "    <tr style=\"text-align: right;\">\n",
              "      <th></th>\n",
              "      <th>Administrative</th>\n",
              "      <th>Administrative_Duration</th>\n",
              "      <th>Informational</th>\n",
              "      <th>Informational_Duration</th>\n",
              "      <th>ProductRelated</th>\n",
              "      <th>ProductRelated_Duration</th>\n",
              "      <th>BounceRates</th>\n",
              "      <th>ExitRates</th>\n",
              "      <th>PageValues</th>\n",
              "      <th>SpecialDay</th>\n",
              "      <th>OperatingSystems</th>\n",
              "      <th>Browser</th>\n",
              "      <th>Region</th>\n",
              "      <th>TrafficType</th>\n",
              "      <th>Weekend</th>\n",
              "      <th>Revenue</th>\n",
              "      <th>Total_Duration</th>\n",
              "      <th>Month_Aug</th>\n",
              "      <th>Month_Dec</th>\n",
              "      <th>Month_Feb</th>\n",
              "      <th>Month_Jul</th>\n",
              "      <th>Month_June</th>\n",
              "      <th>Month_Mar</th>\n",
              "      <th>Month_May</th>\n",
              "      <th>Month_Nov</th>\n",
              "      <th>Month_Oct</th>\n",
              "      <th>Month_Sep</th>\n",
              "      <th>VisitorType_New_Visitor</th>\n",
              "      <th>VisitorType_Other</th>\n",
              "      <th>VisitorType_Returning_Visitor</th>\n",
              "    </tr>\n",
              "  </thead>\n",
              "  <tbody>\n",
              "    <tr>\n",
              "      <th>11631</th>\n",
              "      <td>2</td>\n",
              "      <td>18.600000</td>\n",
              "      <td>0</td>\n",
              "      <td>0.000000</td>\n",
              "      <td>85</td>\n",
              "      <td>2834.280117</td>\n",
              "      <td>0.004884</td>\n",
              "      <td>0.013389</td>\n",
              "      <td>37.423376</td>\n",
              "      <td>0.0</td>\n",
              "      <td>2</td>\n",
              "      <td>2</td>\n",
              "      <td>1</td>\n",
              "      <td>1</td>\n",
              "      <td>1</td>\n",
              "      <td>0</td>\n",
              "      <td>2852.880117</td>\n",
              "      <td>0</td>\n",
              "      <td>0</td>\n",
              "      <td>0</td>\n",
              "      <td>0</td>\n",
              "      <td>0</td>\n",
              "      <td>0</td>\n",
              "      <td>0</td>\n",
              "      <td>1</td>\n",
              "      <td>0</td>\n",
              "      <td>0</td>\n",
              "      <td>0</td>\n",
              "      <td>0</td>\n",
              "      <td>1</td>\n",
              "    </tr>\n",
              "    <tr>\n",
              "      <th>6520</th>\n",
              "      <td>5</td>\n",
              "      <td>49.200000</td>\n",
              "      <td>4</td>\n",
              "      <td>379.000000</td>\n",
              "      <td>5</td>\n",
              "      <td>74.600000</td>\n",
              "      <td>0.000000</td>\n",
              "      <td>0.018182</td>\n",
              "      <td>8.326728</td>\n",
              "      <td>0.0</td>\n",
              "      <td>2</td>\n",
              "      <td>2</td>\n",
              "      <td>8</td>\n",
              "      <td>2</td>\n",
              "      <td>0</td>\n",
              "      <td>0</td>\n",
              "      <td>502.800000</td>\n",
              "      <td>0</td>\n",
              "      <td>0</td>\n",
              "      <td>0</td>\n",
              "      <td>0</td>\n",
              "      <td>0</td>\n",
              "      <td>0</td>\n",
              "      <td>0</td>\n",
              "      <td>0</td>\n",
              "      <td>0</td>\n",
              "      <td>1</td>\n",
              "      <td>1</td>\n",
              "      <td>0</td>\n",
              "      <td>0</td>\n",
              "    </tr>\n",
              "    <tr>\n",
              "      <th>2111</th>\n",
              "      <td>4</td>\n",
              "      <td>515.600000</td>\n",
              "      <td>0</td>\n",
              "      <td>0.000000</td>\n",
              "      <td>77</td>\n",
              "      <td>1449.683333</td>\n",
              "      <td>0.000000</td>\n",
              "      <td>0.002632</td>\n",
              "      <td>0.000000</td>\n",
              "      <td>0.0</td>\n",
              "      <td>2</td>\n",
              "      <td>2</td>\n",
              "      <td>4</td>\n",
              "      <td>2</td>\n",
              "      <td>0</td>\n",
              "      <td>0</td>\n",
              "      <td>1965.283333</td>\n",
              "      <td>0</td>\n",
              "      <td>0</td>\n",
              "      <td>0</td>\n",
              "      <td>0</td>\n",
              "      <td>0</td>\n",
              "      <td>0</td>\n",
              "      <td>1</td>\n",
              "      <td>0</td>\n",
              "      <td>0</td>\n",
              "      <td>0</td>\n",
              "      <td>0</td>\n",
              "      <td>0</td>\n",
              "      <td>1</td>\n",
              "    </tr>\n",
              "    <tr>\n",
              "      <th>9273</th>\n",
              "      <td>5</td>\n",
              "      <td>140.250000</td>\n",
              "      <td>4</td>\n",
              "      <td>282.000000</td>\n",
              "      <td>4</td>\n",
              "      <td>213.500000</td>\n",
              "      <td>0.000000</td>\n",
              "      <td>0.009091</td>\n",
              "      <td>0.000000</td>\n",
              "      <td>0.0</td>\n",
              "      <td>3</td>\n",
              "      <td>2</td>\n",
              "      <td>1</td>\n",
              "      <td>2</td>\n",
              "      <td>0</td>\n",
              "      <td>1</td>\n",
              "      <td>635.750000</td>\n",
              "      <td>0</td>\n",
              "      <td>0</td>\n",
              "      <td>0</td>\n",
              "      <td>0</td>\n",
              "      <td>0</td>\n",
              "      <td>0</td>\n",
              "      <td>0</td>\n",
              "      <td>1</td>\n",
              "      <td>0</td>\n",
              "      <td>0</td>\n",
              "      <td>1</td>\n",
              "      <td>0</td>\n",
              "      <td>0</td>\n",
              "    </tr>\n",
              "    <tr>\n",
              "      <th>8187</th>\n",
              "      <td>0</td>\n",
              "      <td>0.000000</td>\n",
              "      <td>0</td>\n",
              "      <td>0.000000</td>\n",
              "      <td>4</td>\n",
              "      <td>129.500000</td>\n",
              "      <td>0.000000</td>\n",
              "      <td>0.050000</td>\n",
              "      <td>0.000000</td>\n",
              "      <td>0.0</td>\n",
              "      <td>8</td>\n",
              "      <td>13</td>\n",
              "      <td>9</td>\n",
              "      <td>20</td>\n",
              "      <td>0</td>\n",
              "      <td>0</td>\n",
              "      <td>129.500000</td>\n",
              "      <td>0</td>\n",
              "      <td>1</td>\n",
              "      <td>0</td>\n",
              "      <td>0</td>\n",
              "      <td>0</td>\n",
              "      <td>0</td>\n",
              "      <td>0</td>\n",
              "      <td>0</td>\n",
              "      <td>0</td>\n",
              "      <td>0</td>\n",
              "      <td>0</td>\n",
              "      <td>1</td>\n",
              "      <td>0</td>\n",
              "    </tr>\n",
              "    <tr>\n",
              "      <th>...</th>\n",
              "      <td>...</td>\n",
              "      <td>...</td>\n",
              "      <td>...</td>\n",
              "      <td>...</td>\n",
              "      <td>...</td>\n",
              "      <td>...</td>\n",
              "      <td>...</td>\n",
              "      <td>...</td>\n",
              "      <td>...</td>\n",
              "      <td>...</td>\n",
              "      <td>...</td>\n",
              "      <td>...</td>\n",
              "      <td>...</td>\n",
              "      <td>...</td>\n",
              "      <td>...</td>\n",
              "      <td>...</td>\n",
              "      <td>...</td>\n",
              "      <td>...</td>\n",
              "      <td>...</td>\n",
              "      <td>...</td>\n",
              "      <td>...</td>\n",
              "      <td>...</td>\n",
              "      <td>...</td>\n",
              "      <td>...</td>\n",
              "      <td>...</td>\n",
              "      <td>...</td>\n",
              "      <td>...</td>\n",
              "      <td>...</td>\n",
              "      <td>...</td>\n",
              "      <td>...</td>\n",
              "    </tr>\n",
              "    <tr>\n",
              "      <th>11988</th>\n",
              "      <td>14</td>\n",
              "      <td>228.748539</td>\n",
              "      <td>6</td>\n",
              "      <td>121.583333</td>\n",
              "      <td>336</td>\n",
              "      <td>12166.694240</td>\n",
              "      <td>0.000000</td>\n",
              "      <td>0.012144</td>\n",
              "      <td>0.067050</td>\n",
              "      <td>0.0</td>\n",
              "      <td>2</td>\n",
              "      <td>2</td>\n",
              "      <td>7</td>\n",
              "      <td>2</td>\n",
              "      <td>0</td>\n",
              "      <td>1</td>\n",
              "      <td>12517.026112</td>\n",
              "      <td>0</td>\n",
              "      <td>0</td>\n",
              "      <td>0</td>\n",
              "      <td>0</td>\n",
              "      <td>0</td>\n",
              "      <td>0</td>\n",
              "      <td>0</td>\n",
              "      <td>1</td>\n",
              "      <td>0</td>\n",
              "      <td>0</td>\n",
              "      <td>0</td>\n",
              "      <td>0</td>\n",
              "      <td>1</td>\n",
              "    </tr>\n",
              "    <tr>\n",
              "      <th>6613</th>\n",
              "      <td>16</td>\n",
              "      <td>314.505000</td>\n",
              "      <td>0</td>\n",
              "      <td>0.000000</td>\n",
              "      <td>37</td>\n",
              "      <td>1048.663333</td>\n",
              "      <td>0.000000</td>\n",
              "      <td>0.008696</td>\n",
              "      <td>87.253963</td>\n",
              "      <td>0.0</td>\n",
              "      <td>1</td>\n",
              "      <td>1</td>\n",
              "      <td>3</td>\n",
              "      <td>2</td>\n",
              "      <td>0</td>\n",
              "      <td>1</td>\n",
              "      <td>1363.168333</td>\n",
              "      <td>0</td>\n",
              "      <td>0</td>\n",
              "      <td>0</td>\n",
              "      <td>0</td>\n",
              "      <td>0</td>\n",
              "      <td>0</td>\n",
              "      <td>0</td>\n",
              "      <td>1</td>\n",
              "      <td>0</td>\n",
              "      <td>0</td>\n",
              "      <td>1</td>\n",
              "      <td>0</td>\n",
              "      <td>0</td>\n",
              "    </tr>\n",
              "    <tr>\n",
              "      <th>7637</th>\n",
              "      <td>7</td>\n",
              "      <td>154.933333</td>\n",
              "      <td>0</td>\n",
              "      <td>0.000000</td>\n",
              "      <td>31</td>\n",
              "      <td>910.040000</td>\n",
              "      <td>0.018182</td>\n",
              "      <td>0.052020</td>\n",
              "      <td>5.316109</td>\n",
              "      <td>0.0</td>\n",
              "      <td>1</td>\n",
              "      <td>1</td>\n",
              "      <td>3</td>\n",
              "      <td>1</td>\n",
              "      <td>0</td>\n",
              "      <td>0</td>\n",
              "      <td>1064.973333</td>\n",
              "      <td>0</td>\n",
              "      <td>0</td>\n",
              "      <td>0</td>\n",
              "      <td>1</td>\n",
              "      <td>0</td>\n",
              "      <td>0</td>\n",
              "      <td>0</td>\n",
              "      <td>0</td>\n",
              "      <td>0</td>\n",
              "      <td>0</td>\n",
              "      <td>0</td>\n",
              "      <td>0</td>\n",
              "      <td>1</td>\n",
              "    </tr>\n",
              "    <tr>\n",
              "      <th>115</th>\n",
              "      <td>0</td>\n",
              "      <td>0.000000</td>\n",
              "      <td>0</td>\n",
              "      <td>0.000000</td>\n",
              "      <td>12</td>\n",
              "      <td>317.833333</td>\n",
              "      <td>0.000000</td>\n",
              "      <td>0.005556</td>\n",
              "      <td>0.000000</td>\n",
              "      <td>0.0</td>\n",
              "      <td>1</td>\n",
              "      <td>1</td>\n",
              "      <td>1</td>\n",
              "      <td>4</td>\n",
              "      <td>1</td>\n",
              "      <td>0</td>\n",
              "      <td>317.833333</td>\n",
              "      <td>0</td>\n",
              "      <td>0</td>\n",
              "      <td>1</td>\n",
              "      <td>0</td>\n",
              "      <td>0</td>\n",
              "      <td>0</td>\n",
              "      <td>0</td>\n",
              "      <td>0</td>\n",
              "      <td>0</td>\n",
              "      <td>0</td>\n",
              "      <td>0</td>\n",
              "      <td>0</td>\n",
              "      <td>1</td>\n",
              "    </tr>\n",
              "    <tr>\n",
              "      <th>11278</th>\n",
              "      <td>4</td>\n",
              "      <td>91.000000</td>\n",
              "      <td>2</td>\n",
              "      <td>9.500000</td>\n",
              "      <td>104</td>\n",
              "      <td>2856.993600</td>\n",
              "      <td>0.016929</td>\n",
              "      <td>0.041369</td>\n",
              "      <td>0.000000</td>\n",
              "      <td>0.0</td>\n",
              "      <td>2</td>\n",
              "      <td>2</td>\n",
              "      <td>2</td>\n",
              "      <td>10</td>\n",
              "      <td>0</td>\n",
              "      <td>0</td>\n",
              "      <td>2957.493600</td>\n",
              "      <td>0</td>\n",
              "      <td>1</td>\n",
              "      <td>0</td>\n",
              "      <td>0</td>\n",
              "      <td>0</td>\n",
              "      <td>0</td>\n",
              "      <td>0</td>\n",
              "      <td>0</td>\n",
              "      <td>0</td>\n",
              "      <td>0</td>\n",
              "      <td>0</td>\n",
              "      <td>0</td>\n",
              "      <td>1</td>\n",
              "    </tr>\n",
              "  </tbody>\n",
              "</table>\n",
              "<p>9247 rows × 30 columns</p>\n",
              "</div>"
            ],
            "text/plain": [
              "       Administrative  ...  VisitorType_Returning_Visitor\n",
              "11631               2  ...                              1\n",
              "6520                5  ...                              0\n",
              "2111                4  ...                              1\n",
              "9273                5  ...                              0\n",
              "8187                0  ...                              0\n",
              "...               ...  ...                            ...\n",
              "11988              14  ...                              1\n",
              "6613               16  ...                              0\n",
              "7637                7  ...                              1\n",
              "115                 0  ...                              1\n",
              "11278               4  ...                              1\n",
              "\n",
              "[9247 rows x 30 columns]"
            ]
          },
          "metadata": {
            "tags": []
          },
          "execution_count": 44
        }
      ]
    },
    {
      "cell_type": "markdown",
      "metadata": {
        "id": "a_MY1m-596-C"
      },
      "source": [
        "Après avoir fait cela, il ne me reste plus que des variables numérique et je peux donc commencer à appliquer des modèles à mon dataset pour prédire le revenue"
      ]
    },
    {
      "cell_type": "markdown",
      "metadata": {
        "id": "tYH3Js7wumJB"
      },
      "source": [
        "##Corrélation des variables"
      ]
    },
    {
      "cell_type": "code",
      "metadata": {
        "colab": {
          "base_uri": "https://localhost:8080/"
        },
        "id": "ntrBAuuCuphB",
        "outputId": "6f14cd4a-a411-4322-dfbd-2b1e2a25832e"
      },
      "source": [
        "# Find correlations with the target and sort\r\n",
        "correlations = app_train.corr()['Revenue'].sort_values()\r\n",
        "\r\n",
        "# Display correlations\r\n",
        "print('Most Positive Correlations:\\n', correlations)"
      ],
      "execution_count": 45,
      "outputs": [
        {
          "output_type": "stream",
          "text": [
            "Most Positive Correlations:\n",
            " ExitRates                       -0.205484\n",
            "BounceRates                     -0.149102\n",
            "VisitorType_Returning_Visitor   -0.111581\n",
            "SpecialDay                      -0.082192\n",
            "Month_May                       -0.071981\n",
            "Month_Mar                       -0.063058\n",
            "Month_Feb                       -0.047788\n",
            "Month_June                      -0.029074\n",
            "Month_Dec                       -0.028343\n",
            "OperatingSystems                -0.012299\n",
            "Region                          -0.010326\n",
            "Month_Jul                       -0.009570\n",
            "TrafficType                     -0.004767\n",
            "Month_Aug                        0.008478\n",
            "VisitorType_Other                0.010094\n",
            "Month_Sep                        0.015650\n",
            "Browser                          0.018226\n",
            "Weekend                          0.023165\n",
            "Month_Oct                        0.040555\n",
            "Informational_Duration           0.073948\n",
            "Administrative_Duration          0.088745\n",
            "Informational                    0.098030\n",
            "VisitorType_New_Visitor          0.111305\n",
            "Administrative                   0.139513\n",
            "Month_Nov                        0.148568\n",
            "ProductRelated_Duration          0.148594\n",
            "Total_Duration                   0.151751\n",
            "ProductRelated                   0.156742\n",
            "PageValues                       0.503650\n",
            "Revenue                          1.000000\n",
            "Name: Revenue, dtype: float64\n"
          ],
          "name": "stdout"
        }
      ]
    },
    {
      "cell_type": "markdown",
      "metadata": {
        "id": "fCPuPZ5y-NOM"
      },
      "source": [
        "On peut voir que les variables qui ont le plus d'influences sur le Revenue sont : PageValues, ProductRelated, Total_Duration, Month_Nov, ProductRelated_Duration.\r\n",
        "\r\n",
        "Ainsi on peut voir que ajouter la variable Total_Duration était une bonne idée car elle influe beaucoup. On voit aussi que effectivement le mois de novembre a aussi un gros impact, c'est durant ce mois-ci qu'il y avait un maximum de vente.\r\n",
        "\r\n",
        "PageValues a le plus d'impact, on peut donc en déduire que plus un clients surf sur le site plus il est suceptible d'acheter et inversement. \r\n",
        "\r\n",
        "Pour finir, on observe aussi que les variables ProductRelated et ProductedRelated_Duration on beaucoup d'impact ce qui semble logique. En effet si un client va sur la page d'un produit et le temps qu'il passe sur la page du produit ont forcément beaucoup d'influence sur le passage s'une commande ou non."
      ]
    },
    {
      "cell_type": "markdown",
      "metadata": {
        "id": "2dz4lMqyYZII"
      },
      "source": [
        "##Undersampling"
      ]
    },
    {
      "cell_type": "markdown",
      "metadata": {
        "id": "HHMon8gU4-IO"
      },
      "source": [
        "Le but du undersampling est qu'il y est une proportion égale des deux variables du label afin de prévoir plus précisement le label. En effet sinon avec une telle disproportion, il suffit de prédire 100% de valeur comme étant celle ayant le plus d'éléments pour avoir 80% de prédiction juste par exemple. "
      ]
    },
    {
      "cell_type": "markdown",
      "metadata": {
        "id": "xSbsuRzE5lkj"
      },
      "source": [
        "J'ai éffectué un premier test sans undersampling et j'ai trouvé des valeurs d'AUC inférieur à celles trouvés en faisant du undersampling dans le train sans rien changer d'autre. "
      ]
    },
    {
      "cell_type": "code",
      "metadata": {
        "colab": {
          "base_uri": "https://localhost:8080/",
          "height": 0
        },
        "id": "iB2XcpupLhC9",
        "outputId": "0872b874-a030-472c-a8b4-43a3289f2113"
      },
      "source": [
        "# Put all the target class in a separate dataset.\n",
        "Revenue_df = app_train.loc[app_train['Revenue'] == 1]\n",
        "\n",
        "#Randomly select 492 observations from the non-fraud (majority class)\n",
        "non_Revenue_df = app_train.loc[app_train['Revenue'] == 0].sample(n=1429,random_state=42)\n",
        "\n",
        "# Concatenate both dataframes again\n",
        "normalized_df = pd.concat([Revenue_df, non_Revenue_df])\n",
        "\n",
        "#plot the dataset after the undersampling\n",
        "plt.figure(figsize=(8, 8))\n",
        "sns.countplot('Revenue', data=normalized_df)\n",
        "plt.title('Balanced Classes')\n",
        "plt.show()"
      ],
      "execution_count": 46,
      "outputs": [
        {
          "output_type": "stream",
          "text": [
            "/usr/local/lib/python3.6/dist-packages/seaborn/_decorators.py:43: FutureWarning: Pass the following variable as a keyword arg: x. From version 0.12, the only valid positional argument will be `data`, and passing other arguments without an explicit keyword will result in an error or misinterpretation.\n",
            "  FutureWarning\n"
          ],
          "name": "stderr"
        },
        {
          "output_type": "display_data",
          "data": {
            "image/png": "[encoded data removed]",
            "text/plain": [
              "<Figure size 576x576 with 1 Axes>"
            ]
          },
          "metadata": {
            "tags": [],
            "needs_background": "light"
          }
        }
      ]
    },
    {
      "cell_type": "markdown",
      "metadata": {
        "id": "ppoydtwlBCbb"
      },
      "source": [
        "##Je renomme les dataset de train et test"
      ]
    },
    {
      "cell_type": "code",
      "metadata": {
        "colab": {
          "base_uri": "https://localhost:8080/",
          "height": 0
        },
        "id": "AI0ZrKH5BGCD",
        "outputId": "aabd5841-63c7-4915-c07a-9deabe21c3ef"
      },
      "source": [
        "Y_train = normalized_df['Revenue'];\r\n",
        "X_train = normalized_df.drop(columns = ['Revenue']);\r\n",
        "Y_test = app_test['Revenue'];\r\n",
        "X_test = app_test.drop(columns = ['Revenue']);\r\n",
        "X_train"
      ],
      "execution_count": 47,
      "outputs": [
        {
          "output_type": "execute_result",
          "data": {
            "text/html": [
              "<div>\n",
              "<style scoped>\n",
              "    .dataframe tbody tr th:only-of-type {\n",
              "        vertical-align: middle;\n",
              "    }\n",
              "\n",
              "    .dataframe tbody tr th {\n",
              "        vertical-align: top;\n",
              "    }\n",
              "\n",
              "    .dataframe thead th {\n",
              "        text-align: right;\n",
              "    }\n",
              "</style>\n",
              "<table border=\"1\" class=\"dataframe\">\n",
              "  <thead>\n",
              "    <tr style=\"text-align: right;\">\n",
              "      <th></th>\n",
              "      <th>Administrative</th>\n",
              "      <th>Administrative_Duration</th>\n",
              "      <th>Informational</th>\n",
              "      <th>Informational_Duration</th>\n",
              "      <th>ProductRelated</th>\n",
              "      <th>ProductRelated_Duration</th>\n",
              "      <th>BounceRates</th>\n",
              "      <th>ExitRates</th>\n",
              "      <th>PageValues</th>\n",
              "      <th>SpecialDay</th>\n",
              "      <th>OperatingSystems</th>\n",
              "      <th>Browser</th>\n",
              "      <th>Region</th>\n",
              "      <th>TrafficType</th>\n",
              "      <th>Weekend</th>\n",
              "      <th>Total_Duration</th>\n",
              "      <th>Month_Aug</th>\n",
              "      <th>Month_Dec</th>\n",
              "      <th>Month_Feb</th>\n",
              "      <th>Month_Jul</th>\n",
              "      <th>Month_June</th>\n",
              "      <th>Month_Mar</th>\n",
              "      <th>Month_May</th>\n",
              "      <th>Month_Nov</th>\n",
              "      <th>Month_Oct</th>\n",
              "      <th>Month_Sep</th>\n",
              "      <th>VisitorType_New_Visitor</th>\n",
              "      <th>VisitorType_Other</th>\n",
              "      <th>VisitorType_Returning_Visitor</th>\n",
              "    </tr>\n",
              "  </thead>\n",
              "  <tbody>\n",
              "    <tr>\n",
              "      <th>9273</th>\n",
              "      <td>5</td>\n",
              "      <td>140.250000</td>\n",
              "      <td>4</td>\n",
              "      <td>282.0</td>\n",
              "      <td>4</td>\n",
              "      <td>213.500000</td>\n",
              "      <td>0.000000</td>\n",
              "      <td>0.009091</td>\n",
              "      <td>0.000000</td>\n",
              "      <td>0.0</td>\n",
              "      <td>3</td>\n",
              "      <td>2</td>\n",
              "      <td>1</td>\n",
              "      <td>2</td>\n",
              "      <td>0</td>\n",
              "      <td>635.750000</td>\n",
              "      <td>0</td>\n",
              "      <td>0</td>\n",
              "      <td>0</td>\n",
              "      <td>0</td>\n",
              "      <td>0</td>\n",
              "      <td>0</td>\n",
              "      <td>0</td>\n",
              "      <td>1</td>\n",
              "      <td>0</td>\n",
              "      <td>0</td>\n",
              "      <td>1</td>\n",
              "      <td>0</td>\n",
              "      <td>0</td>\n",
              "    </tr>\n",
              "    <tr>\n",
              "      <th>1298</th>\n",
              "      <td>0</td>\n",
              "      <td>0.000000</td>\n",
              "      <td>1</td>\n",
              "      <td>55.0</td>\n",
              "      <td>9</td>\n",
              "      <td>936.833333</td>\n",
              "      <td>0.000000</td>\n",
              "      <td>0.022222</td>\n",
              "      <td>53.255333</td>\n",
              "      <td>0.0</td>\n",
              "      <td>1</td>\n",
              "      <td>1</td>\n",
              "      <td>1</td>\n",
              "      <td>2</td>\n",
              "      <td>1</td>\n",
              "      <td>991.833333</td>\n",
              "      <td>0</td>\n",
              "      <td>0</td>\n",
              "      <td>0</td>\n",
              "      <td>0</td>\n",
              "      <td>0</td>\n",
              "      <td>1</td>\n",
              "      <td>0</td>\n",
              "      <td>0</td>\n",
              "      <td>0</td>\n",
              "      <td>0</td>\n",
              "      <td>0</td>\n",
              "      <td>0</td>\n",
              "      <td>1</td>\n",
              "    </tr>\n",
              "    <tr>\n",
              "      <th>11226</th>\n",
              "      <td>3</td>\n",
              "      <td>40.000000</td>\n",
              "      <td>0</td>\n",
              "      <td>0.0</td>\n",
              "      <td>24</td>\n",
              "      <td>3830.000000</td>\n",
              "      <td>0.000000</td>\n",
              "      <td>0.025333</td>\n",
              "      <td>0.000000</td>\n",
              "      <td>0.0</td>\n",
              "      <td>1</td>\n",
              "      <td>1</td>\n",
              "      <td>7</td>\n",
              "      <td>8</td>\n",
              "      <td>0</td>\n",
              "      <td>3870.000000</td>\n",
              "      <td>0</td>\n",
              "      <td>0</td>\n",
              "      <td>0</td>\n",
              "      <td>0</td>\n",
              "      <td>0</td>\n",
              "      <td>0</td>\n",
              "      <td>0</td>\n",
              "      <td>1</td>\n",
              "      <td>0</td>\n",
              "      <td>0</td>\n",
              "      <td>1</td>\n",
              "      <td>0</td>\n",
              "      <td>0</td>\n",
              "    </tr>\n",
              "    <tr>\n",
              "      <th>6374</th>\n",
              "      <td>4</td>\n",
              "      <td>19.800000</td>\n",
              "      <td>0</td>\n",
              "      <td>0.0</td>\n",
              "      <td>2</td>\n",
              "      <td>10.000000</td>\n",
              "      <td>0.012500</td>\n",
              "      <td>0.034167</td>\n",
              "      <td>0.000000</td>\n",
              "      <td>0.0</td>\n",
              "      <td>1</td>\n",
              "      <td>1</td>\n",
              "      <td>6</td>\n",
              "      <td>5</td>\n",
              "      <td>1</td>\n",
              "      <td>29.800000</td>\n",
              "      <td>0</td>\n",
              "      <td>0</td>\n",
              "      <td>0</td>\n",
              "      <td>0</td>\n",
              "      <td>0</td>\n",
              "      <td>0</td>\n",
              "      <td>0</td>\n",
              "      <td>0</td>\n",
              "      <td>0</td>\n",
              "      <td>1</td>\n",
              "      <td>1</td>\n",
              "      <td>0</td>\n",
              "      <td>0</td>\n",
              "    </tr>\n",
              "    <tr>\n",
              "      <th>11173</th>\n",
              "      <td>2</td>\n",
              "      <td>38.000000</td>\n",
              "      <td>0</td>\n",
              "      <td>0.0</td>\n",
              "      <td>3</td>\n",
              "      <td>33.333333</td>\n",
              "      <td>0.000000</td>\n",
              "      <td>0.030556</td>\n",
              "      <td>0.000000</td>\n",
              "      <td>0.0</td>\n",
              "      <td>2</td>\n",
              "      <td>2</td>\n",
              "      <td>8</td>\n",
              "      <td>10</td>\n",
              "      <td>0</td>\n",
              "      <td>71.333333</td>\n",
              "      <td>0</td>\n",
              "      <td>0</td>\n",
              "      <td>0</td>\n",
              "      <td>0</td>\n",
              "      <td>0</td>\n",
              "      <td>0</td>\n",
              "      <td>0</td>\n",
              "      <td>1</td>\n",
              "      <td>0</td>\n",
              "      <td>0</td>\n",
              "      <td>0</td>\n",
              "      <td>0</td>\n",
              "      <td>1</td>\n",
              "    </tr>\n",
              "    <tr>\n",
              "      <th>...</th>\n",
              "      <td>...</td>\n",
              "      <td>...</td>\n",
              "      <td>...</td>\n",
              "      <td>...</td>\n",
              "      <td>...</td>\n",
              "      <td>...</td>\n",
              "      <td>...</td>\n",
              "      <td>...</td>\n",
              "      <td>...</td>\n",
              "      <td>...</td>\n",
              "      <td>...</td>\n",
              "      <td>...</td>\n",
              "      <td>...</td>\n",
              "      <td>...</td>\n",
              "      <td>...</td>\n",
              "      <td>...</td>\n",
              "      <td>...</td>\n",
              "      <td>...</td>\n",
              "      <td>...</td>\n",
              "      <td>...</td>\n",
              "      <td>...</td>\n",
              "      <td>...</td>\n",
              "      <td>...</td>\n",
              "      <td>...</td>\n",
              "      <td>...</td>\n",
              "      <td>...</td>\n",
              "      <td>...</td>\n",
              "      <td>...</td>\n",
              "      <td>...</td>\n",
              "    </tr>\n",
              "    <tr>\n",
              "      <th>1203</th>\n",
              "      <td>0</td>\n",
              "      <td>0.000000</td>\n",
              "      <td>0</td>\n",
              "      <td>0.0</td>\n",
              "      <td>6</td>\n",
              "      <td>62.000000</td>\n",
              "      <td>0.000000</td>\n",
              "      <td>0.040000</td>\n",
              "      <td>0.000000</td>\n",
              "      <td>0.0</td>\n",
              "      <td>2</td>\n",
              "      <td>2</td>\n",
              "      <td>1</td>\n",
              "      <td>1</td>\n",
              "      <td>0</td>\n",
              "      <td>62.000000</td>\n",
              "      <td>0</td>\n",
              "      <td>0</td>\n",
              "      <td>0</td>\n",
              "      <td>0</td>\n",
              "      <td>0</td>\n",
              "      <td>1</td>\n",
              "      <td>0</td>\n",
              "      <td>0</td>\n",
              "      <td>0</td>\n",
              "      <td>0</td>\n",
              "      <td>0</td>\n",
              "      <td>0</td>\n",
              "      <td>1</td>\n",
              "    </tr>\n",
              "    <tr>\n",
              "      <th>5334</th>\n",
              "      <td>1</td>\n",
              "      <td>32.750000</td>\n",
              "      <td>1</td>\n",
              "      <td>11.0</td>\n",
              "      <td>43</td>\n",
              "      <td>2949.550000</td>\n",
              "      <td>0.015909</td>\n",
              "      <td>0.027165</td>\n",
              "      <td>0.000000</td>\n",
              "      <td>0.8</td>\n",
              "      <td>3</td>\n",
              "      <td>2</td>\n",
              "      <td>1</td>\n",
              "      <td>13</td>\n",
              "      <td>0</td>\n",
              "      <td>2993.300000</td>\n",
              "      <td>0</td>\n",
              "      <td>0</td>\n",
              "      <td>0</td>\n",
              "      <td>0</td>\n",
              "      <td>0</td>\n",
              "      <td>0</td>\n",
              "      <td>1</td>\n",
              "      <td>0</td>\n",
              "      <td>0</td>\n",
              "      <td>0</td>\n",
              "      <td>0</td>\n",
              "      <td>0</td>\n",
              "      <td>1</td>\n",
              "    </tr>\n",
              "    <tr>\n",
              "      <th>6448</th>\n",
              "      <td>7</td>\n",
              "      <td>98.466667</td>\n",
              "      <td>0</td>\n",
              "      <td>0.0</td>\n",
              "      <td>13</td>\n",
              "      <td>257.933333</td>\n",
              "      <td>0.000000</td>\n",
              "      <td>0.016000</td>\n",
              "      <td>0.000000</td>\n",
              "      <td>0.0</td>\n",
              "      <td>2</td>\n",
              "      <td>2</td>\n",
              "      <td>3</td>\n",
              "      <td>4</td>\n",
              "      <td>0</td>\n",
              "      <td>356.400000</td>\n",
              "      <td>0</td>\n",
              "      <td>0</td>\n",
              "      <td>0</td>\n",
              "      <td>0</td>\n",
              "      <td>0</td>\n",
              "      <td>0</td>\n",
              "      <td>0</td>\n",
              "      <td>0</td>\n",
              "      <td>0</td>\n",
              "      <td>1</td>\n",
              "      <td>0</td>\n",
              "      <td>0</td>\n",
              "      <td>1</td>\n",
              "    </tr>\n",
              "    <tr>\n",
              "      <th>3474</th>\n",
              "      <td>7</td>\n",
              "      <td>71.000000</td>\n",
              "      <td>0</td>\n",
              "      <td>0.0</td>\n",
              "      <td>34</td>\n",
              "      <td>1540.750000</td>\n",
              "      <td>0.004878</td>\n",
              "      <td>0.024390</td>\n",
              "      <td>0.000000</td>\n",
              "      <td>0.0</td>\n",
              "      <td>2</td>\n",
              "      <td>2</td>\n",
              "      <td>8</td>\n",
              "      <td>3</td>\n",
              "      <td>0</td>\n",
              "      <td>1611.750000</td>\n",
              "      <td>0</td>\n",
              "      <td>0</td>\n",
              "      <td>0</td>\n",
              "      <td>0</td>\n",
              "      <td>0</td>\n",
              "      <td>0</td>\n",
              "      <td>1</td>\n",
              "      <td>0</td>\n",
              "      <td>0</td>\n",
              "      <td>0</td>\n",
              "      <td>0</td>\n",
              "      <td>0</td>\n",
              "      <td>1</td>\n",
              "    </tr>\n",
              "    <tr>\n",
              "      <th>1153</th>\n",
              "      <td>0</td>\n",
              "      <td>0.000000</td>\n",
              "      <td>0</td>\n",
              "      <td>0.0</td>\n",
              "      <td>2</td>\n",
              "      <td>5.000000</td>\n",
              "      <td>0.000000</td>\n",
              "      <td>0.100000</td>\n",
              "      <td>0.000000</td>\n",
              "      <td>0.0</td>\n",
              "      <td>2</td>\n",
              "      <td>2</td>\n",
              "      <td>1</td>\n",
              "      <td>1</td>\n",
              "      <td>1</td>\n",
              "      <td>5.000000</td>\n",
              "      <td>0</td>\n",
              "      <td>0</td>\n",
              "      <td>0</td>\n",
              "      <td>0</td>\n",
              "      <td>0</td>\n",
              "      <td>1</td>\n",
              "      <td>0</td>\n",
              "      <td>0</td>\n",
              "      <td>0</td>\n",
              "      <td>0</td>\n",
              "      <td>0</td>\n",
              "      <td>0</td>\n",
              "      <td>1</td>\n",
              "    </tr>\n",
              "  </tbody>\n",
              "</table>\n",
              "<p>2844 rows × 29 columns</p>\n",
              "</div>"
            ],
            "text/plain": [
              "       Administrative  ...  VisitorType_Returning_Visitor\n",
              "9273                5  ...                              0\n",
              "1298                0  ...                              1\n",
              "11226               3  ...                              0\n",
              "6374                4  ...                              0\n",
              "11173               2  ...                              1\n",
              "...               ...  ...                            ...\n",
              "1203                0  ...                              1\n",
              "5334                1  ...                              1\n",
              "6448                7  ...                              1\n",
              "3474                7  ...                              1\n",
              "1153                0  ...                              1\n",
              "\n",
              "[2844 rows x 29 columns]"
            ]
          },
          "metadata": {
            "tags": []
          },
          "execution_count": 47
        }
      ]
    },
    {
      "cell_type": "code",
      "metadata": {
        "colab": {
          "base_uri": "https://localhost:8080/"
        },
        "id": "7wIS6SrjCT7N",
        "outputId": "888c007a-64ab-428e-a1e7-cce794fdc5e3"
      },
      "source": [
        "Y_train.describe()"
      ],
      "execution_count": 48,
      "outputs": [
        {
          "output_type": "execute_result",
          "data": {
            "text/plain": [
              "count    2844.000000\n",
              "mean        0.497539\n",
              "std         0.500082\n",
              "min         0.000000\n",
              "25%         0.000000\n",
              "50%         0.000000\n",
              "75%         1.000000\n",
              "max         1.000000\n",
              "Name: Revenue, dtype: float64"
            ]
          },
          "metadata": {
            "tags": []
          },
          "execution_count": 48
        }
      ]
    },
    {
      "cell_type": "markdown",
      "metadata": {
        "id": "YZ5nrpjz_4x-"
      },
      "source": [
        "##Scaling des variables"
      ]
    },
    {
      "cell_type": "code",
      "metadata": {
        "colab": {
          "base_uri": "https://localhost:8080/"
        },
        "id": "zR8yz-2sAE9v",
        "outputId": "a25dc17e-801c-47dc-dea1-e82ee8260881"
      },
      "source": [
        "#On n'effectue un scaling des données afin e normaliser les variables\r\n",
        "\r\n",
        "# Scale each feature to 0-1\r\n",
        "scaler = MinMaxScaler(feature_range = (0, 1))\r\n",
        "\r\n",
        "# Repeat with the scaler\r\n",
        "scaler.fit(X_train)\r\n",
        "X_train = scaler.transform(X_train)\r\n",
        "X_test = scaler.transform(X_test)\r\n",
        "\r\n",
        "X_train"
      ],
      "execution_count": 49,
      "outputs": [
        {
          "output_type": "execute_result",
          "data": {
            "text/plain": [
              "array([[0.20833333, 0.05277878, 0.30769231, ..., 1.        , 0.        ,\n",
              "        0.        ],\n",
              "       [0.        , 0.        , 0.07692308, ..., 0.        , 0.        ,\n",
              "        1.        ],\n",
              "       [0.125     , 0.01505277, 0.        , ..., 1.        , 0.        ,\n",
              "        0.        ],\n",
              "       ...,\n",
              "       [0.29166667, 0.0370549 , 0.        , ..., 0.        , 0.        ,\n",
              "        1.        ],\n",
              "       [0.29166667, 0.02671867, 0.        , ..., 0.        , 0.        ,\n",
              "        1.        ],\n",
              "       [0.        , 0.        , 0.        , ..., 0.        , 0.        ,\n",
              "        1.        ]])"
            ]
          },
          "metadata": {
            "tags": []
          },
          "execution_count": 49
        }
      ]
    },
    {
      "cell_type": "markdown",
      "metadata": {
        "id": "7-UnSXI7Dvu1"
      },
      "source": [
        "#Modèle de regression logistique"
      ]
    },
    {
      "cell_type": "code",
      "metadata": {
        "colab": {
          "base_uri": "https://localhost:8080/"
        },
        "id": "TOOprriODzFQ",
        "outputId": "37d2bd50-6775-416b-c268-5c986085aafe"
      },
      "source": [
        "from sklearn.linear_model import LogisticRegression\r\n",
        "\r\n",
        "# Make the model with the specified regularization parameter\r\n",
        "log_reg = LogisticRegression(C = 0.001)\r\n",
        "\r\n",
        "# Train on the training data\r\n",
        "log_reg.fit(X_train, Y_train)"
      ],
      "execution_count": 50,
      "outputs": [
        {
          "output_type": "execute_result",
          "data": {
            "text/plain": [
              "LogisticRegression(C=0.001, class_weight=None, dual=False, fit_intercept=True,\n",
              "                   intercept_scaling=1, l1_ratio=None, max_iter=100,\n",
              "                   multi_class='auto', n_jobs=None, penalty='l2',\n",
              "                   random_state=None, solver='lbfgs', tol=0.0001, verbose=0,\n",
              "                   warm_start=False)"
            ]
          },
          "metadata": {
            "tags": []
          },
          "execution_count": 50
        }
      ]
    },
    {
      "cell_type": "code",
      "metadata": {
        "id": "qh7LTpPxD5vN"
      },
      "source": [
        "# Make predictions\r\n",
        "# We select the second column to know the probability of a loan not being paid\r\n",
        "log_reg_pred = log_reg.predict_proba(X_test)[:, 1]"
      ],
      "execution_count": 51,
      "outputs": []
    },
    {
      "cell_type": "markdown",
      "metadata": {
        "id": "xqoZ3e1aolQ9"
      },
      "source": [
        "##Calcul des résultats du modèle"
      ]
    },
    {
      "cell_type": "code",
      "metadata": {
        "colab": {
          "base_uri": "https://localhost:8080/"
        },
        "id": "mXIINEAKN70q",
        "outputId": "564842cc-c3ac-4543-e576-d7fc44ed75ac"
      },
      "source": [
        "pred_reg_f1 = log_reg_pred\n",
        "for i in range(len(pred_reg_f1)) :\n",
        "  if (pred_reg_f1[i] > 0.5) :\n",
        "    pred_reg_f1[i] = 1\n",
        "  else :\n",
        "    pred_reg_f1[i] = 0\n",
        "\n",
        "pred_reg_f1"
      ],
      "execution_count": 52,
      "outputs": [
        {
          "output_type": "execute_result",
          "data": {
            "text/plain": [
              "array([0., 0., 1., ..., 1., 0., 1.])"
            ]
          },
          "metadata": {
            "tags": []
          },
          "execution_count": 52
        }
      ]
    },
    {
      "cell_type": "code",
      "metadata": {
        "colab": {
          "base_uri": "https://localhost:8080/",
          "height": 282
        },
        "id": "dyQugpnsN-2-",
        "outputId": "adad419d-0d2d-47b4-c07a-0ec62e8c2765"
      },
      "source": [
        "import sklearn.metrics as metrics\n",
        "\n",
        "fpr, tpr, threshold = metrics.roc_curve(Y_test, log_reg_pred)\n",
        "x = fpr # false_positive_rate\n",
        "y = tpr # true_positive_rate \n",
        "\n",
        "# This is the ROC curve\n",
        "plt.plot(x,y)\n",
        "plt.show() \n",
        "\n",
        "# This is the AUC\n",
        "auc = np.trapz(y,x)\n",
        "print(auc)"
      ],
      "execution_count": 53,
      "outputs": [
        {
          "output_type": "display_data",
          "data": {
            "image/png": "[encoded data removed]",
            "text/plain": [
              "<Figure size 432x288 with 1 Axes>"
            ]
          },
          "metadata": {
            "tags": [],
            "needs_background": "light"
          }
        },
        {
          "output_type": "stream",
          "text": [
            "0.6295209017398464\n"
          ],
          "name": "stdout"
        }
      ]
    },
    {
      "cell_type": "code",
      "metadata": {
        "id": "mYanhY4sODjY"
      },
      "source": [
        "from sklearn.metrics import confusion_matrix\n",
        "cm = confusion_matrix(Y_test,pred_reg_f1)"
      ],
      "execution_count": 54,
      "outputs": []
    },
    {
      "cell_type": "code",
      "metadata": {
        "colab": {
          "base_uri": "https://localhost:8080/",
          "height": 296
        },
        "id": "shujqKXbOFNI",
        "outputId": "9223dea6-1354-43eb-abc3-1c946c088b99"
      },
      "source": [
        "%matplotlib inline\n",
        "import matplotlib.pyplot as plt\n",
        "import seaborn as sn\n",
        "plt.figure(figsize=(6,4))\n",
        "sn.heatmap(cm,annot=True)\n",
        "plt.xlabel('Predicted')\n",
        "plt.ylabel('Truth')"
      ],
      "execution_count": 55,
      "outputs": [
        {
          "output_type": "execute_result",
          "data": {
            "text/plain": [
              "Text(33.0, 0.5, 'Truth')"
            ]
          },
          "metadata": {
            "tags": []
          },
          "execution_count": 55
        },
        {
          "output_type": "display_data",
          "data": {
            "image/png": "[encoded data removed]",
            "text/plain": [
              "<Figure size 432x288 with 2 Axes>"
            ]
          },
          "metadata": {
            "tags": [],
            "needs_background": "light"
          }
        }
      ]
    },
    {
      "cell_type": "markdown",
      "metadata": {
        "id": "Clwam29JQhrH"
      },
      "source": [
        "#Test d'un random forest grid search"
      ]
    },
    {
      "cell_type": "code",
      "metadata": {
        "id": "dmTKleSrQlra"
      },
      "source": [
        "def RandomForest_grid_search(df, Y):\n",
        "    \"\"\"\n",
        "    Réglage des hyper-paramètres du classifieur Random Forest\n",
        "    \"\"\"\n",
        "    import sys, pickle\n",
        "    from sklearn.ensemble          import RandomForestClassifier\n",
        "    from sklearn.model_selection   import GridSearchCV\n",
        "    from sklearn.metrics           import make_scorer\n",
        "    from sklearn.preprocessing     import label_binarize\n",
        "    from sklearn.multiclass        import OneVsRestClassifier\n",
        "    #grid search :\n",
        "\n",
        "    parameters = {  \"n_estimators\"         : [ 10, 100, 200 ], \n",
        "                    \"min_samples_leaf\"     : [  3,   1,   7 ],\n",
        "                    \"criterion\"            : [\"gini\", \"entropy\"]         ,\n",
        "                    \"max_features\"         : [\"auto\"]      ,\n",
        "                    \"max_depth\"            : [None]         , \n",
        "                    \"n_jobs\"               : [ -1]             ,  \n",
        "                    \"class_weight\"         : [\"auto\"]          ,\n",
        "                    \"warm_start\"           : [False]           }\n",
        "    \n",
        "    grid_type = \"RandomForestClassifier\"\n",
        "    \n",
        "    print (\"-\"*30, \"\\n %s\"%grid_type); sys.stdout.flush()\n",
        "    \"\"\"\n",
        "        Search \n",
        "    \"\"\"\n",
        "    \n",
        "    # Exhaustive Grid Search : will try all parameters combinations\n",
        "    # vs RandomizedSeachCV where the model test random combinations.\n",
        "    \n",
        "    grid         = GridSearchCV(RandomForestClassifier(), {})#, parameters, verbose=1, scoring='f1_weighted')\n",
        "    \n",
        "    try :grid.fit(df, Y)\n",
        "    except Exception as e : print (\"[%s - 2] : %s\"%(grid_type,e) )\n",
        "    \n",
        "    print (\" best_score_ %s with =  %s \"%( grid.best_score_,  grid.best_estimator_ ) ); sys.stdout.flush()    \n",
        "    return grid.best_estimator_"
      ],
      "execution_count": 58,
      "outputs": []
    },
    {
      "cell_type": "code",
      "metadata": {
        "colab": {
          "base_uri": "https://localhost:8080/"
        },
        "id": "QemwCyKxQrE3",
        "outputId": "1b95f6be-cf79-4b20-dd5d-dec853bd937a"
      },
      "source": [
        "# Apprentissage du classifieur RF sur X_train et Y_train (<nb_lignes> données)\n",
        "rf = RandomForest_grid_search(X_train, Y_train)\n"
      ],
      "execution_count": 59,
      "outputs": [
        {
          "output_type": "stream",
          "text": [
            "------------------------------ \n",
            " RandomForestClassifier\n",
            " best_score_ 0.8540824030297779 with =  RandomForestClassifier(bootstrap=True, ccp_alpha=0.0, class_weight=None,\n",
            "                       criterion='gini', max_depth=None, max_features='auto',\n",
            "                       max_leaf_nodes=None, max_samples=None,\n",
            "                       min_impurity_decrease=0.0, min_impurity_split=None,\n",
            "                       min_samples_leaf=1, min_samples_split=2,\n",
            "                       min_weight_fraction_leaf=0.0, n_estimators=100,\n",
            "                       n_jobs=None, oob_score=False, random_state=None,\n",
            "                       verbose=0, warm_start=False) \n"
          ],
          "name": "stdout"
        }
      ]
    },
    {
      "cell_type": "code",
      "metadata": {
        "id": "xvAgaKEZQtWX"
      },
      "source": [
        "#On applique le modèle que l'on vient \n",
        "#d'entraîner sur l'échantillon de test\n",
        "predictions2 = rf.predict(X_test)"
      ],
      "execution_count": 60,
      "outputs": []
    },
    {
      "cell_type": "code",
      "metadata": {
        "colab": {
          "base_uri": "https://localhost:8080/",
          "height": 282
        },
        "id": "7K_cR23RQw0U",
        "outputId": "5b0223a5-7294-470c-f713-921609d73f36"
      },
      "source": [
        "import sklearn.metrics as metrics\n",
        "\n",
        "fpr2, tpr2, threshold2 = metrics.roc_curve(Y_test, predictions2)\n",
        "x2 = fpr2 # false_positive_rate\n",
        "y2 = tpr2 # true_positive_rate \n",
        "\n",
        "# This is the ROC curve\n",
        "plt.plot(x2,y2)\n",
        "plt.show() \n",
        "\n",
        "# This is the AUC\n",
        "auc2 = np.trapz(y2,x2)\n",
        "print(auc2)"
      ],
      "execution_count": 61,
      "outputs": [
        {
          "output_type": "display_data",
          "data": {
            "image/png": "[encoded data removed]",
            "text/plain": [
              "<Figure size 432x288 with 1 Axes>"
            ]
          },
          "metadata": {
            "tags": [],
            "needs_background": "light"
          }
        },
        {
          "output_type": "stream",
          "text": [
            "0.8468759621961224\n"
          ],
          "name": "stdout"
        }
      ]
    },
    {
      "cell_type": "code",
      "metadata": {
        "id": "y5bKQeGvQ5Aw"
      },
      "source": [
        "from sklearn.metrics import confusion_matrix\n",
        "cm = confusion_matrix(Y_test,predictions2)"
      ],
      "execution_count": 62,
      "outputs": []
    },
    {
      "cell_type": "code",
      "metadata": {
        "id": "u2BRFGoTQ7x9",
        "colab": {
          "base_uri": "https://localhost:8080/",
          "height": 296
        },
        "outputId": "05ff097d-29dc-4ebc-c1ff-3bd52b43120f"
      },
      "source": [
        "%matplotlib inline\n",
        "import matplotlib.pyplot as plt\n",
        "import seaborn as sn\n",
        "plt.figure(figsize=(6,4))\n",
        "sn.heatmap(cm,annot=True)\n",
        "plt.xlabel('Predicted')\n",
        "plt.ylabel('Truth')"
      ],
      "execution_count": 63,
      "outputs": [
        {
          "output_type": "execute_result",
          "data": {
            "text/plain": [
              "Text(33.0, 0.5, 'Truth')"
            ]
          },
          "metadata": {
            "tags": []
          },
          "execution_count": 63
        },
        {
          "output_type": "display_data",
          "data": {
            "image/png": "[encoded data removed]",
            "text/plain": [
              "<Figure size 432x288 with 2 Axes>"
            ]
          },
          "metadata": {
            "tags": [],
            "needs_background": "light"
          }
        }
      ]
    },
    {
      "cell_type": "markdown",
      "metadata": {
        "id": "fWDVGzDuPkf6"
      },
      "source": [
        "#Test random forest basique"
      ]
    },
    {
      "cell_type": "code",
      "metadata": {
        "id": "hWU3f8I_PnJV"
      },
      "source": [
        "#On importe l'algorithme à partir de sklearn\n",
        "from sklearn.ensemble import RandomForestClassifier\n",
        "\n",
        "rf = RandomForestClassifier(bootstrap=True, ccp_alpha=0.0, class_weight=None,\n",
        "                       criterion='gini', max_depth=None, max_features='auto',\n",
        "                       max_leaf_nodes=None, max_samples=None,\n",
        "                       min_impurity_decrease=0.0, min_impurity_split=None,\n",
        "                       min_samples_leaf=1, min_samples_split=2,\n",
        "                       min_weight_fraction_leaf=0.0, n_estimators=100,\n",
        "                       n_jobs=None, oob_score=False, random_state=None,\n",
        "                       verbose=0, warm_start=False) \n",
        "#Et on lance le training sur notre dataset de train\n",
        "rf = rf.fit(X_train, Y_train)"
      ],
      "execution_count": 64,
      "outputs": []
    },
    {
      "cell_type": "code",
      "metadata": {
        "id": "IXhxpgIHPqC-"
      },
      "source": [
        "#On applique le modèle que l'on vient \n",
        "#d'entraîner sur l'échantillon de test\n",
        "predictions = rf.predict(X_test)"
      ],
      "execution_count": 65,
      "outputs": []
    },
    {
      "cell_type": "code",
      "metadata": {
        "id": "kbeDwFTyPscC",
        "colab": {
          "base_uri": "https://localhost:8080/"
        },
        "outputId": "21f5517c-0058-4a51-c166-e501df022017"
      },
      "source": [
        "predictions"
      ],
      "execution_count": 66,
      "outputs": [
        {
          "output_type": "execute_result",
          "data": {
            "text/plain": [
              "array([1, 0, 0, ..., 1, 1, 1])"
            ]
          },
          "metadata": {
            "tags": []
          },
          "execution_count": 66
        }
      ]
    },
    {
      "cell_type": "code",
      "metadata": {
        "id": "QxLQoyoAPuyh",
        "colab": {
          "base_uri": "https://localhost:8080/",
          "height": 282
        },
        "outputId": "9a947d5c-b676-4e13-fee8-2f3adeb91d25"
      },
      "source": [
        "y_probas2 = predictions# predicted probabilities generated by sklearn classifier\n",
        "\n",
        "fpr2, tpr2, threshold2 = metrics.roc_curve(Y_test, y_probas2)\n",
        "x2 = fpr2 # false_positive_rate\n",
        "y2 = tpr2 # true_positive_rate \n",
        "\n",
        "# This is the ROC curve\n",
        "plt.plot(x2,y2)\n",
        "plt.show() \n",
        "\n",
        "# This is the AUC\n",
        "auc2 = np.trapz(y2,x2)\n",
        "print(auc2)"
      ],
      "execution_count": 67,
      "outputs": [
        {
          "output_type": "display_data",
          "data": {
            "image/png": "[encoded data removed]",
            "text/plain": [
              "<Figure size 432x288 with 1 Axes>"
            ]
          },
          "metadata": {
            "tags": [],
            "needs_background": "light"
          }
        },
        {
          "output_type": "stream",
          "text": [
            "0.8438345410486087\n"
          ],
          "name": "stdout"
        }
      ]
    },
    {
      "cell_type": "code",
      "metadata": {
        "id": "PJXh-dAwQQtK"
      },
      "source": [
        "from sklearn.metrics import confusion_matrix\n",
        "cm = confusion_matrix(Y_test,predictions)"
      ],
      "execution_count": 68,
      "outputs": []
    },
    {
      "cell_type": "code",
      "metadata": {
        "id": "z4cNHcQmQWTX",
        "colab": {
          "base_uri": "https://localhost:8080/",
          "height": 296
        },
        "outputId": "3aea428c-e4a3-45c8-cbfc-7fad2b501eb7"
      },
      "source": [
        "%matplotlib inline\n",
        "import matplotlib.pyplot as plt\n",
        "import seaborn as sn\n",
        "plt.figure(figsize=(6,4))\n",
        "sn.heatmap(cm,annot=True)\n",
        "plt.xlabel('Predicted')\n",
        "plt.ylabel('Truth')"
      ],
      "execution_count": 69,
      "outputs": [
        {
          "output_type": "execute_result",
          "data": {
            "text/plain": [
              "Text(33.0, 0.5, 'Truth')"
            ]
          },
          "metadata": {
            "tags": []
          },
          "execution_count": 69
        },
        {
          "output_type": "display_data",
          "data": {
            "image/png": "[encoded data removed]",
            "text/plain": [
              "<Figure size 432x288 with 2 Axes>"
            ]
          },
          "metadata": {
            "tags": [],
            "needs_background": "light"
          }
        }
      ]
    },
    {
      "cell_type": "markdown",
      "metadata": {
        "id": "_U7Up2hdR4_V"
      },
      "source": [
        "##Sauvegarde modèle\r\n"
      ]
    },
    {
      "cell_type": "code",
      "metadata": {
        "id": "sM_1flXoR4_f"
      },
      "source": [
        "import pickle\r\n",
        "pickle.dump(rf, open('final_prediction_rf.pickle', 'wb'))"
      ],
      "execution_count": 70,
      "outputs": []
    },
    {
      "cell_type": "code",
      "metadata": {
        "colab": {
          "base_uri": "https://localhost:8080/"
        },
        "id": "E8O5hSxTR4_i",
        "outputId": "e28eb8c0-c213-4888-fc94-eca90271ca20"
      },
      "source": [
        "X_test[2]"
      ],
      "execution_count": 71,
      "outputs": [
        {
          "output_type": "execute_result",
          "data": {
            "text/plain": [
              "array([0.20833333, 0.09637537, 0.15384615, 0.04541521, 0.00749064,\n",
              "       0.01392704, 0.        , 0.05      , 0.        , 0.        ,\n",
              "       0.        , 0.        , 0.625     , 0.05263158, 0.        ,\n",
              "       0.02236172, 0.        , 0.        , 0.        , 0.        ,\n",
              "       0.        , 0.        , 0.        , 0.        , 0.        ,\n",
              "       1.        , 1.        , 0.        , 0.        ])"
            ]
          },
          "metadata": {
            "tags": []
          },
          "execution_count": 71
        }
      ]
    },
    {
      "cell_type": "code",
      "metadata": {
        "colab": {
          "base_uri": "https://localhost:8080/"
        },
        "id": "IFniI5h_R4_l",
        "outputId": "92c8e100-1961-4a41-aecf-ef7459f5929b"
      },
      "source": [
        "Y_test"
      ],
      "execution_count": 72,
      "outputs": [
        {
          "output_type": "execute_result",
          "data": {
            "text/plain": [
              "3944     1\n",
              "4244     0\n",
              "7144     0\n",
              "3442     0\n",
              "2736     0\n",
              "        ..\n",
              "4647     0\n",
              "875      0\n",
              "12134    0\n",
              "57       0\n",
              "11052    0\n",
              "Name: Revenue, Length: 3082, dtype: int64"
            ]
          },
          "metadata": {
            "tags": []
          },
          "execution_count": 72
        }
      ]
    },
    {
      "cell_type": "markdown",
      "metadata": {
        "id": "y2Fnz302R9nW"
      },
      "source": [
        "#Test d'un XGBoost"
      ]
    },
    {
      "cell_type": "code",
      "metadata": {
        "id": "AzSa0xOqSD7G",
        "colab": {
          "base_uri": "https://localhost:8080/"
        },
        "outputId": "d284d701-06f7-4e2d-dfa4-c4b038589e14"
      },
      "source": [
        "pip install xgboost"
      ],
      "execution_count": 73,
      "outputs": [
        {
          "output_type": "stream",
          "text": [
            "Requirement already satisfied: xgboost in /usr/local/lib/python3.6/dist-packages (0.90)\n",
            "Requirement already satisfied: numpy in /usr/local/lib/python3.6/dist-packages (from xgboost) (1.19.4)\n",
            "Requirement already satisfied: scipy in /usr/local/lib/python3.6/dist-packages (from xgboost) (1.4.1)\n"
          ],
          "name": "stdout"
        }
      ]
    },
    {
      "cell_type": "code",
      "metadata": {
        "id": "ME0kx06xTJMb"
      },
      "source": [
        "from xgboost import XGBClassifier\n",
        "algo = XGBClassifier()"
      ],
      "execution_count": 74,
      "outputs": []
    },
    {
      "cell_type": "code",
      "metadata": {
        "id": "fBlMApOsTcDT",
        "colab": {
          "base_uri": "https://localhost:8080/"
        },
        "outputId": "ea9c7ef4-59fa-40f7-b4ef-583531af224d"
      },
      "source": [
        "default_hyperparameters = algo.get_params()\n",
        "espace_de_Recherche = {}\n",
        "for i, hyperparam in enumerate(default_hyperparameters):\n",
        "    default_value = default_hyperparameters[hyperparam]\n",
        "    if default_value:\n",
        "        if type(default_value) == int:\n",
        "            delta = default_value * 2\n",
        "            valeurs_de_recherches = [default_value-delta,default_value, default_value+ delta]\n",
        "        if type(default_value) == float:\n",
        "            delta = default_value * 0.1\n",
        "            valeurs_de_recherches = [default_value-delta,default_value, default_value+ delta]\n",
        "        if type(default_value) == bool:\n",
        "            valeurs_de_recherches = [True, False]\n",
        "        espace_de_Recherche[hyperparam]=valeurs_de_recherches\n",
        "        print(hyperparam, default_value, valeurs_de_recherches)\n",
        "espace_de_Recherche[\"n_jobs\"]=[-1]"
      ],
      "execution_count": 75,
      "outputs": [
        {
          "output_type": "stream",
          "text": [
            "base_score 0.5 [0.45, 0.5, 0.55]\n",
            "booster gbtree [0.45, 0.5, 0.55]\n",
            "colsample_bylevel 1 [-1, 1, 3]\n",
            "colsample_bynode 1 [-1, 1, 3]\n",
            "colsample_bytree 1 [-1, 1, 3]\n",
            "learning_rate 0.1 [0.09, 0.1, 0.11000000000000001]\n",
            "max_depth 3 [-3, 3, 9]\n",
            "min_child_weight 1 [-1, 1, 3]\n",
            "n_estimators 100 [-100, 100, 300]\n",
            "n_jobs 1 [-1, 1, 3]\n",
            "objective binary:logistic [-1, 1, 3]\n",
            "reg_lambda 1 [-1, 1, 3]\n",
            "scale_pos_weight 1 [-1, 1, 3]\n",
            "subsample 1 [-1, 1, 3]\n",
            "verbosity 1 [-1, 1, 3]\n"
          ],
          "name": "stdout"
        }
      ]
    },
    {
      "cell_type": "code",
      "metadata": {
        "id": "AP6BJ_bHTere"
      },
      "source": [
        "def test_hyperparametres(algo, hyperparametres):\n",
        "    grid       = GridSearchCV(algo, hyperparametres, n_jobs=-1)\n",
        "    grid.fit(X_train, Y_train)\n",
        "    print (grid.best_score_, grid.best_estimator_)    \n",
        "    return grid.best_score_, grid.best_estimator_"
      ],
      "execution_count": 76,
      "outputs": []
    },
    {
      "cell_type": "code",
      "metadata": {
        "id": "AwYsQrURUOzd",
        "colab": {
          "base_uri": "https://localhost:8080/"
        },
        "outputId": "bc52c214-b99c-49af-8b08-71dc54425053"
      },
      "source": [
        "espace_de_Recherche = {\n",
        "    \"max_depth\" : [1,5,10],\n",
        "    \"gamma\" : [0.5, 1, 1.1, 1.2, 1.5]\n",
        "}\n",
        "test_hyperparametres(XGBClassifier(), espace_de_Recherche)"
      ],
      "execution_count": 77,
      "outputs": [
        {
          "output_type": "stream",
          "text": [
            "0.855138741057947 XGBClassifier(base_score=0.5, booster='gbtree', colsample_bylevel=1,\n",
            "              colsample_bynode=1, colsample_bytree=1, gamma=1.2,\n",
            "              learning_rate=0.1, max_delta_step=0, max_depth=10,\n",
            "              min_child_weight=1, missing=None, n_estimators=100, n_jobs=1,\n",
            "              nthread=None, objective='binary:logistic', random_state=0,\n",
            "              reg_alpha=0, reg_lambda=1, scale_pos_weight=1, seed=None,\n",
            "              silent=None, subsample=1, verbosity=1)\n"
          ],
          "name": "stdout"
        },
        {
          "output_type": "execute_result",
          "data": {
            "text/plain": [
              "(0.855138741057947,\n",
              " XGBClassifier(base_score=0.5, booster='gbtree', colsample_bylevel=1,\n",
              "               colsample_bynode=1, colsample_bytree=1, gamma=1.2,\n",
              "               learning_rate=0.1, max_delta_step=0, max_depth=10,\n",
              "               min_child_weight=1, missing=None, n_estimators=100, n_jobs=1,\n",
              "               nthread=None, objective='binary:logistic', random_state=0,\n",
              "               reg_alpha=0, reg_lambda=1, scale_pos_weight=1, seed=None,\n",
              "               silent=None, subsample=1, verbosity=1))"
            ]
          },
          "metadata": {
            "tags": []
          },
          "execution_count": 77
        }
      ]
    },
    {
      "cell_type": "code",
      "metadata": {
        "id": "3ATV3udlUQoI"
      },
      "source": [
        "modele = algo.fit(X_train, Y_train)"
      ],
      "execution_count": 78,
      "outputs": []
    },
    {
      "cell_type": "code",
      "metadata": {
        "id": "zSRpIrogXSek"
      },
      "source": [
        "#On applique le modèle que l'on vient \n",
        "#d'entraîner sur l'échantillon de test\n",
        "predict_xgb_reg = modele.predict(X_test)"
      ],
      "execution_count": 79,
      "outputs": []
    },
    {
      "cell_type": "code",
      "metadata": {
        "id": "ZLBBb1WLXWva",
        "colab": {
          "base_uri": "https://localhost:8080/",
          "height": 282
        },
        "outputId": "c6b8d8fc-0796-40e0-e5b4-7c576971d637"
      },
      "source": [
        "fpr2, tpr2, threshold2 = metrics.roc_curve(Y_test, predict_xgb_reg)\n",
        "x2 = fpr2 # false_positive_rate\n",
        "y2 = tpr2 # true_positive_rate \n",
        "\n",
        "# This is the ROC curve\n",
        "plt.plot(x2,y2)\n",
        "plt.show() \n",
        "\n",
        "# This is the AUC\n",
        "auc2 = np.trapz(y2,x2)\n",
        "print(auc2)"
      ],
      "execution_count": 80,
      "outputs": [
        {
          "output_type": "display_data",
          "data": {
            "image/png": "[encoded data removed]",
            "text/plain": [
              "<Figure size 432x288 with 1 Axes>"
            ]
          },
          "metadata": {
            "tags": [],
            "needs_background": "light"
          }
        },
        {
          "output_type": "stream",
          "text": [
            "0.8487598099934424\n"
          ],
          "name": "stdout"
        }
      ]
    },
    {
      "cell_type": "markdown",
      "metadata": {
        "id": "tRZWN6A26DdY"
      },
      "source": [
        "Je trouve un AUC meilleur qu'avec le random forest. C'est donc mon meilleur modèle pour prédire si un visiteur va effectuer un achat ou non lors de sa visite "
      ]
    },
    {
      "cell_type": "code",
      "metadata": {
        "id": "CtoxZDMmdsaR",
        "colab": {
          "base_uri": "https://localhost:8080/"
        },
        "outputId": "40a45e02-9f50-471f-e6b7-8b0f73995d47"
      },
      "source": [
        "predict_xgb_reg_bin = predict_xgb_reg\n",
        "for i in range(len(predict_xgb_reg_bin)) :\n",
        "  if (predict_xgb_reg_bin[i] > 0.5) :\n",
        "    predict_xgb_reg_bin[i] = 1\n",
        "  else :\n",
        "    predict_xgb_reg_bin[i] = 0\n",
        "\n",
        "predict_xgb_reg_bin"
      ],
      "execution_count": 81,
      "outputs": [
        {
          "output_type": "execute_result",
          "data": {
            "text/plain": [
              "array([1, 0, 0, ..., 1, 1, 1])"
            ]
          },
          "metadata": {
            "tags": []
          },
          "execution_count": 81
        }
      ]
    },
    {
      "cell_type": "code",
      "metadata": {
        "id": "wF0YNRDiXjaX",
        "colab": {
          "base_uri": "https://localhost:8080/",
          "height": 296
        },
        "outputId": "28bc8084-a936-457c-fc0a-6ea7b0c88d37"
      },
      "source": [
        "from sklearn.metrics import confusion_matrix\n",
        "cm = confusion_matrix(Y_test,predict_xgb_reg_bin)\n",
        "%matplotlib inline\n",
        "import matplotlib.pyplot as plt\n",
        "import seaborn as sn\n",
        "plt.figure(figsize=(6,4))\n",
        "sn.heatmap(cm,annot=True)\n",
        "plt.xlabel('Predicted')\n",
        "plt.ylabel('Truth')"
      ],
      "execution_count": 82,
      "outputs": [
        {
          "output_type": "execute_result",
          "data": {
            "text/plain": [
              "Text(33.0, 0.5, 'Truth')"
            ]
          },
          "metadata": {
            "tags": []
          },
          "execution_count": 82
        },
        {
          "output_type": "display_data",
          "data": {
            "image/png": "[encoded data removed]",
            "text/plain": [
              "<Figure size 432x288 with 2 Axes>"
            ]
          },
          "metadata": {
            "tags": [],
            "needs_background": "light"
          }
        }
      ]
    },
    {
      "cell_type": "markdown",
      "metadata": {
        "id": "XmaPp1GJbkV2"
      },
      "source": [
        "Grâce à cette confusion matrice, on peut voir que notre modèle prédit peu de faux 0. Cela correspond que peu de clients qui vont passer une commande sont prédit comme ne passant pas de commande. Par contre le modèle prédit beaucoup plus de faux 1. Il prédit beaucoup plus de clients comme allant passé une commande alors qu'ils n'en passeront pas."
      ]
    },
    {
      "cell_type": "markdown",
      "metadata": {
        "id": "8TO9NO94dsPk"
      },
      "source": [
        "##Sauvegarde modèle\r\n"
      ]
    },
    {
      "cell_type": "code",
      "metadata": {
        "id": "BTOTuwEydsPo"
      },
      "source": [
        "import pickle\r\n",
        "pickle.dump(modele, open('final_prediction.pickle', 'wb'))"
      ],
      "execution_count": null,
      "outputs": []
    },
    {
      "cell_type": "code",
      "metadata": {
        "colab": {
          "base_uri": "https://localhost:8080/"
        },
        "id": "yezX6L-DAyq-",
        "outputId": "a2e50fad-1d02-456f-aec3-9e5e9c8403ab"
      },
      "source": [
        "X_test[2]"
      ],
      "execution_count": null,
      "outputs": [
        {
          "output_type": "execute_result",
          "data": {
            "text/plain": [
              "array([0.07692308, 0.00676719, 0.        , 0.        , 0.02247191,\n",
              "       0.00444715, 0.        , 0.07142857, 0.        , 0.        ,\n",
              "       0.14285714, 0.08333333, 0.25      , 0.05263158, 0.        ,\n",
              "       0.        , 1.        , 0.        , 0.        , 0.        ,\n",
              "       0.        , 0.        , 0.        , 0.        , 0.        ,\n",
              "       0.        , 0.        , 1.        ])"
            ]
          },
          "metadata": {
            "tags": []
          },
          "execution_count": 58
        }
      ]
    },
    {
      "cell_type": "code",
      "metadata": {
        "id": "5IegZijRA80X",
        "colab": {
          "base_uri": "https://localhost:8080/"
        },
        "outputId": "ff980cba-7582-4caf-b514-11022e222fc0"
      },
      "source": [
        "Y_test"
      ],
      "execution_count": null,
      "outputs": [
        {
          "output_type": "execute_result",
          "data": {
            "text/plain": [
              "9668     0\n",
              "9863     0\n",
              "12263    0\n",
              "4945     1\n",
              "6028     0\n",
              "        ..\n",
              "10260    0\n",
              "7917     0\n",
              "434      0\n",
              "4753     0\n",
              "6883     0\n",
              "Name: Revenue, Length: 3082, dtype: int64"
            ]
          },
          "metadata": {
            "tags": []
          },
          "execution_count": 59
        }
      ]
    },
    {
      "cell_type": "markdown",
      "metadata": {
        "id": "eOIY4n42kqdh"
      },
      "source": [
        "#Conclusion"
      ]
    },
    {
      "cell_type": "markdown",
      "metadata": {
        "id": "2y9FrrRXkr6g"
      },
      "source": [
        "En conclusion, on peut voir qu'entre la date de visite d'un site d'e-commerce et le temps passé sur chaque page de ce site, c'est surtout le temps passé sur chaque page de ce site qui déterminera si un client passera une commande ou non. Le but pour le site d'e-commerce sera donc de garder le plus longtemps possible ses clients sur son site et de les pousser à visiter des pages d'autres produits. De plus le mois de novembre influe le plus sur les commandes, cela est surement du à la préparation de noël. Ainsi c'est à cette période que le campagne de pub peuvent avoir le plus d'impact. Pour finir, mon modèle XGBoost permet de prévoir de manière assez précise si un client va passer une commande ou non. Cela peut aussi être utilisé pour essayer de maximiser les commandes"
      ]
    }
  ]
}